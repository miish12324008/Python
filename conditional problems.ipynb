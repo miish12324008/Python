{
 "cells": [
  {
   "cell_type": "code",
   "execution_count": 16,
   "id": "ed3bcd69-cdaf-4d04-b4e9-861b9f7f96fc",
   "metadata": {},
   "outputs": [
    {
     "name": "stdin",
     "output_type": "stream",
     "text": [
      "Enter Your age:  99\n"
     ]
    },
    {
     "name": "stdout",
     "output_type": "stream",
     "text": [
      "you are a senior citizen\n"
     ]
    }
   ],
   "source": [
    "#age group catg\n",
    "age = int(input(\"Enter Your age: \"))\n",
    "if(age<13):\n",
    "    print(\"You are in child category\")\n",
    "elif(age>=13 and age <=19):\n",
    "    print(\"you are in teeanger category\")\n",
    "elif(age>=20 and age <=59):\n",
    "    print(\"you are in adult category\")\n",
    "else:\n",
    "    print(\"you are a senior citizen\")"
   ]
  },
  {
   "cell_type": "code",
   "execution_count": 36,
   "id": "a933e387-d88e-46b2-9e7b-8b86b9dad421",
   "metadata": {},
   "outputs": [
    {
     "name": "stdin",
     "output_type": "stream",
     "text": [
      "Enter Your Age:  23\n",
      "Enter WeekDay:  a\n"
     ]
    },
    {
     "name": "stdout",
     "output_type": "stream",
     "text": [
      "price for ticket is $12\n"
     ]
    }
   ],
   "source": [
    "#movie ticket pricing\n",
    "#Movie tickets are priced based on age: $12 for adults (18 and over), $8 for children. Everyone gets a $2 discount on Wednesday.\n",
    "age = int(input(\"Enter Your Age: \"))\n",
    "week = str(input(\"Enter WeekDay: \"))\n",
    "price = 12 if age>= 18 else 8\n",
    "if(week == \"Wed\"):\n",
    "    price-=2\n",
    "print(f\"price for ticket is ${price}\")"
   ]
  },
  {
   "cell_type": "code",
   "execution_count": 64,
   "id": "24a55a74-dadc-47fd-9602-317d6e674f25",
   "metadata": {},
   "outputs": [
    {
     "name": "stdin",
     "output_type": "stream",
     "text": [
      "Enter yor marks 59\n"
     ]
    },
    {
     "name": "stdout",
     "output_type": "stream",
     "text": [
      "F\n"
     ]
    }
   ],
   "source": [
    "#Grade Calculator\n",
    "#Problem: Assign a letter grade based on a student's score: A (90-100), B (80-89), C (70-79), D (60-69), F (below 60).\n",
    "marks = int(input(\"Enter yor marks\"))\n",
    "if(marks>100):\n",
    "    print(\"Ckeck marks\")\n",
    "elif(90<=marks<=100):\n",
    "    print(\"A\")\n",
    "elif(80<=marks<=89):\n",
    "    print(\"B\")\n",
    "elif(70<=marks <=79):\n",
    "    print(\"C\")\n",
    "elif(60 <= marks <= 69):\n",
    "    print(\"D\")\n",
    "else:\n",
    "    print(\"F\")"
   ]
  },
  {
   "cell_type": "code",
   "execution_count": 70,
   "id": "eec35079-7bbb-4393-b5e3-bdd52a848345",
   "metadata": {},
   "outputs": [
    {
     "name": "stdin",
     "output_type": "stream",
     "text": [
      "Enter the color of banana:  brown\n"
     ]
    },
    {
     "name": "stdout",
     "output_type": "stream",
     "text": [
      "Overripe\n"
     ]
    }
   ],
   "source": [
    "#Fruit Ripeness Checker\n",
    "#Problem: Determine if a fruit is ripe, overripe, or unripe based on its color. \n",
    "#(e.g., Banana: Green - Unripe, Yellow - Ripe, Brown - Overripe)\n",
    "color = str(input(\"Enter the color of banana: \"))\n",
    "if(color == \"green\"):\n",
    "    print(\"Unripe\")\n",
    "elif(color == \"yellow\"):\n",
    "    print(\"Ripe\")\n",
    "elif(color == \"brown\"):\n",
    "    print(\"Overripe\")\n",
    "else:\n",
    "    print(\"Enter the valid color\")"
   ]
  },
  {
   "cell_type": "code",
   "execution_count": 80,
   "id": "2eb03f8d-30e0-4e45-b08e-007f02472e4a",
   "metadata": {},
   "outputs": [
    {
     "name": "stdin",
     "output_type": "stream",
     "text": [
      "Enter weather:  gfy\n"
     ]
    },
    {
     "name": "stdout",
     "output_type": "stream",
     "text": [
      "I only give suggestion for sunny, rainy, snowy\n"
     ]
    }
   ],
   "source": [
    "#5. Weather Activity Suggestion\n",
    "#Problem: Suggest an activity based on the weather \n",
    "#(e.g., Sunny - Go for a walk, Rainy - Read a book, Snowy - Build a snowman).\n",
    "weather = str(input(\"Enter weather: \"))\n",
    "if(weather == \"sunny\"):\n",
    "    print(\"Go On Walk\")\n",
    "elif(weather == \"rainy\"):\n",
    "    print(\"Read Book\")\n",
    "elif(weather == \"snowy\"):\n",
    "    print(\"built a showman\")\n",
    "else:\n",
    "    print(\"I only give suggestion for sunny, rainy, snowy\")"
   ]
  },
  {
   "cell_type": "code",
   "execution_count": 94,
   "id": "dd579633-fe82-4d37-92ce-65fa59dd6569",
   "metadata": {},
   "outputs": [
    {
     "name": "stdin",
     "output_type": "stream",
     "text": [
      "Enter Distance:  15\n"
     ]
    },
    {
     "name": "stdout",
     "output_type": "stream",
     "text": [
      "Bike\n"
     ]
    }
   ],
   "source": [
    "#Transportation Mode Selection\n",
    "#Problem: Choose a mode of transportation based on the distance\n",
    "#(e.g., <3 km: Walk, 3-15 km: Bike, >15 km: Car).\n",
    "distance = float(input(\"Enter Distance: \"))\n",
    "if(0.1<distance < 3):\n",
    "    print(\"Walk\")\n",
    "elif(3<distance<=15):\n",
    "    print(\"Bike\")\n",
    "elif(distance >15):\n",
    "    print(\"car\")\n",
    "else:\n",
    "    print(\"Enter A Valid Distance\")"
   ]
  },
  {
   "cell_type": "code",
   "execution_count": 115,
   "id": "84643825-bd8a-483d-918c-8924029f7645",
   "metadata": {},
   "outputs": [
    {
     "name": "stdin",
     "output_type": "stream",
     "text": [
      "Enter size of coffee:  small\n",
      "Want extra shot?  \n"
     ]
    },
    {
     "name": "stdout",
     "output_type": "stream",
     "text": [
      "small coffee\n"
     ]
    }
   ],
   "source": [
    "#Coffee Customization\n",
    "#Problem: Customize a coffee order: \"Small\", \"Medium\", or \"Large\" with an option for \"Extra shot\" of espresso.\n",
    "size = str(input(\"Enter size of coffee: \"))\n",
    "extra_shot = bool(input(\"Want extra shot? \"))\n",
    "if extra_shot:\n",
    "    print(size + \" coffee with extra shot\")\n",
    "else:\n",
    "    print(size+ \" coffee\")"
   ]
  },
  {
   "cell_type": "code",
   "execution_count": 171,
   "id": "ea285b96-71a1-4882-a7b8-76510c151f9c",
   "metadata": {},
   "outputs": [
    {
     "name": "stdin",
     "output_type": "stream",
     "text": [
      "Enter password:  nhb\n"
     ]
    },
    {
     "name": "stdout",
     "output_type": "stream",
     "text": [
      "Week Password\n"
     ]
    }
   ],
   "source": [
    "#Password Strength Checker\n",
    "#Problem: Check if a password is \"Weak\" or \"Strong\".\n",
    "password = str(input(\"Enter password: \"))\n",
    "length = len(password)\n",
    "digit = any(x.isdigit() for x in password)\n",
    "string = any(x.isalpha() for x in password)\n",
    "special_char = any(not x.isalnum() for x in password)\n",
    "if(length>6 and digit and string and special_char):\n",
    "    print(\"strong password\")\n",
    "else:\n",
    "    print(\"Week Password\")"
   ]
  },
  {
   "cell_type": "code",
   "execution_count": 176,
   "id": "d4ee5c40-dc6b-4d54-be26-d1961a16ede3",
   "metadata": {},
   "outputs": [
    {
     "name": "stdin",
     "output_type": "stream",
     "text": [
      "Enter year:  2001\n"
     ]
    },
    {
     "name": "stdout",
     "output_type": "stream",
     "text": [
      "not a leap year\n"
     ]
    }
   ],
   "source": [
    "#Leap Year Checker\n",
    "#Problem: Determine if a year is a leap year. (Leap years are divisible by 4, but not by 100 unless also divisible by 400).\n",
    "year = int(input(\"Enter year: \"))\n",
    "if(year%4 == 0 and year%100 !=0):\n",
    "    print(\"leap year\")\n",
    "elif(year % 400 == 0):\n",
    "    print(\"leap year\")\n",
    "else:\n",
    "    print(\"not a leap year\")"
   ]
  },
  {
   "cell_type": "code",
   "execution_count": null,
   "id": "8fb1a662-ee2b-4240-9a37-5c0711e1970c",
   "metadata": {},
   "outputs": [],
   "source": []
  }
 ],
 "metadata": {
  "kernelspec": {
   "display_name": "Python [conda env:base] *",
   "language": "python",
   "name": "conda-base-py"
  },
  "language_info": {
   "codemirror_mode": {
    "name": "ipython",
    "version": 3
   },
   "file_extension": ".py",
   "mimetype": "text/x-python",
   "name": "python",
   "nbconvert_exporter": "python",
   "pygments_lexer": "ipython3",
   "version": "3.12.7"
  }
 },
 "nbformat": 4,
 "nbformat_minor": 5
}
