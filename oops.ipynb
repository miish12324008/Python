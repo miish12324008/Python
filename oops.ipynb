{
 "cells": [
  {
   "cell_type": "code",
   "execution_count": 15,
   "id": "62ce8be8-aac6-4eff-a394-a29fa7978658",
   "metadata": {},
   "outputs": [],
   "source": [
    "#classes\n",
    "class myclass:\n",
    "    x = \"manish\""
   ]
  },
  {
   "cell_type": "code",
   "execution_count": 17,
   "id": "196c367b-2364-4383-96da-686404ec9fe5",
   "metadata": {},
   "outputs": [],
   "source": [
    "p1 = myclass()"
   ]
  },
  {
   "cell_type": "code",
   "execution_count": 21,
   "id": "fa84955b-40df-4a18-8a73-e8a2fad594dc",
   "metadata": {},
   "outputs": [
    {
     "data": {
      "text/plain": [
       "'manish'"
      ]
     },
     "execution_count": 21,
     "metadata": {},
     "output_type": "execute_result"
    }
   ],
   "source": [
    "p1.x"
   ]
  },
  {
   "cell_type": "code",
   "execution_count": 40,
   "id": "9a4f484d-fb5a-425e-ba7f-3d18134d5833",
   "metadata": {},
   "outputs": [
    {
     "name": "stdout",
     "output_type": "stream",
     "text": [
      "Manish\n",
      "25\n"
     ]
    }
   ],
   "source": [
    "class person:\n",
    "    name = \"Manish\"\n",
    "    age = 25\n",
    "p1 = person()\n",
    "print(p1.name)\n",
    "print(p1.age)"
   ]
  },
  {
   "cell_type": "code",
   "execution_count": 8,
   "id": "62f9ac95-4345-46fb-9e4c-2f97477eef9f",
   "metadata": {},
   "outputs": [],
   "source": [
    "#using __init__ function\n",
    "class person():\n",
    "    def __init__(self,name, age):\n",
    "        self.name = name\n",
    "        self.age = age\n",
    "p1 = person(\"manish\", 25)"
   ]
  },
  {
   "cell_type": "code",
   "execution_count": 16,
   "id": "6cd744b8-8f41-4694-8b62-7197a45e0d09",
   "metadata": {},
   "outputs": [
    {
     "name": "stdout",
     "output_type": "stream",
     "text": [
      "manish\n",
      "25\n"
     ]
    }
   ],
   "source": [
    "print(p1.name)\n",
    "print(p1.age)"
   ]
  },
  {
   "cell_type": "code",
   "execution_count": 42,
   "id": "210b5b20-298c-414f-9641-bcc2fc511959",
   "metadata": {},
   "outputs": [
    {
     "name": "stdout",
     "output_type": "stream",
     "text": [
      "Manish\n",
      "25\n",
      "Bhavnish\n",
      "20\n"
     ]
    }
   ],
   "source": [
    "class person:\n",
    "    def __init__(self, name, age):\n",
    "        self.name = name\n",
    "        self.age = age\n",
    "p1 = person(\"Manish\",25)\n",
    "p2 = person(\"Bhavnish\", 20)\n",
    "print(p1.name)\n",
    "print(p1.age)\n",
    "print(p2.name)\n",
    "print(p2.age)"
   ]
  },
  {
   "cell_type": "code",
   "execution_count": 4,
   "id": "d3235638-3717-4287-8675-ebc28527aca2",
   "metadata": {},
   "outputs": [
    {
     "name": "stdout",
     "output_type": "stream",
     "text": [
      "Manish\n",
      "Kumar\n"
     ]
    }
   ],
   "source": [
    "class person:\n",
    "    def __init__(self, first_name, last_name):\n",
    "        self.first_name = first_name\n",
    "        self.last_name = last_name\n",
    "p1 = person(\"Manish\",\"Kumar\")\n",
    "print(p1.first_name)\n",
    "print(p1.last_name)"
   ]
  },
  {
   "cell_type": "code",
   "execution_count": 44,
   "id": "0126d658-cade-4c0c-88e9-4b53e8090524",
   "metadata": {},
   "outputs": [],
   "source": [
    "#Note the __init__ function is called automatically every time the class is being used to create a new object\n",
    "#__init__ is a constructor. it the first method/function whhich is called when object is called"
   ]
  },
  {
   "cell_type": "code",
   "execution_count": 6,
   "id": "20f93739-80d4-4653-b4ce-bf4d0dc1a5eb",
   "metadata": {},
   "outputs": [],
   "source": [
    "#__str__ function \n",
    "#it basically provides the string representation of object\n",
    "#return the value (we can use str method to get value in return)"
   ]
  },
  {
   "cell_type": "code",
   "execution_count": 14,
   "id": "8f3e777a-a62b-4356-8f6b-bd688fa698b4",
   "metadata": {},
   "outputs": [
    {
     "name": "stdout",
     "output_type": "stream",
     "text": [
      "Manish Kumar\n"
     ]
    }
   ],
   "source": [
    "class person:\n",
    "    def __init__(self,first_name, last_name):\n",
    "        self.first_name = first_name\n",
    "        self.last_name = last_name\n",
    "    def __str__(self):\n",
    "        return(f\"{self.first_name} {self.last_name}\")\n",
    "p1 = person(\"Manish\",\"Kumar\")\n",
    "print(p1)"
   ]
  },
  {
   "cell_type": "code",
   "execution_count": 22,
   "id": "40b64847-1d10-4f2b-a55f-f2b5b94f0755",
   "metadata": {},
   "outputs": [
    {
     "name": "stdout",
     "output_type": "stream",
     "text": [
      "ManishKumar\n"
     ]
    }
   ],
   "source": [
    "#__str__\n",
    "class person:\n",
    "    def __init__(self,first_name, last_name):\n",
    "        self.first_name = first_name\n",
    "        self.last_name = last_name\n",
    "    def __str__(self):\n",
    "        return(f\"{self.first_name}{ self.last_name}\")\n",
    "p1 = person(\"Manish\",\"Kumar\")\n",
    "print(p1)"
   ]
  },
  {
   "cell_type": "code",
   "execution_count": 49,
   "id": "528fc1f8-ca9e-4ad2-ab22-d781cec69983",
   "metadata": {},
   "outputs": [
    {
     "name": "stdout",
     "output_type": "stream",
     "text": [
      "Sum of ther two number are: 20\n"
     ]
    }
   ],
   "source": [
    "class add:\n",
    "    def __init__(self,num1, num2):\n",
    "        self.num1 = num1\n",
    "        self.num2 = num2\n",
    "    def __str__(self):\n",
    "        return(f\"Sum of ther two number are: {self.num1+self.num2}\")\n",
    "ad = add(10,10)\n",
    "print(ad)"
   ]
  },
  {
   "cell_type": "code",
   "execution_count": 70,
   "id": "40f60961-49a1-49f0-b225-ff7097135097",
   "metadata": {},
   "outputs": [],
   "source": [
    "#object method\n",
    "#object can also contain methods(function)\n",
    "class person:\n",
    "    def __init__(self,first_name, last_name):\n",
    "        self.first_name = first_name\n",
    "        self.last_name = last_name\n",
    "    def names(self):\n",
    "        return(f\"hii my name is {self.first_name} {self.last_name}\")"
   ]
  },
  {
   "cell_type": "code",
   "execution_count": 76,
   "id": "51854b9b-a89e-463b-b58e-9aee95485426",
   "metadata": {},
   "outputs": [
    {
     "data": {
      "text/plain": [
       "'hii my name is Manish Kumar'"
      ]
     },
     "execution_count": 76,
     "metadata": {},
     "output_type": "execute_result"
    }
   ],
   "source": [
    "p1 = person(\"Manish\",\"Kumar\")\n",
    "p1.names()"
   ]
  },
  {
   "cell_type": "code",
   "execution_count": 78,
   "id": "4aaa9657-7af9-4c07-80f7-03e1439b59d0",
   "metadata": {},
   "outputs": [],
   "source": [
    "del p1.last_name"
   ]
  },
  {
   "cell_type": "code",
   "execution_count": 86,
   "id": "80070d04-ba64-46a7-9093-b73849a84702",
   "metadata": {},
   "outputs": [],
   "source": [
    "p1.first_name = \"Bhavnish\""
   ]
  },
  {
   "cell_type": "code",
   "execution_count": 89,
   "id": "af6ea82f-ac88-41d5-9b4a-0c23e1ff9611",
   "metadata": {},
   "outputs": [
    {
     "data": {
      "text/plain": [
       "'Bhavnish'"
      ]
     },
     "execution_count": 89,
     "metadata": {},
     "output_type": "execute_result"
    }
   ],
   "source": [
    "p1.first_name"
   ]
  },
  {
   "cell_type": "code",
   "execution_count": 93,
   "id": "829499a4-1562-45c0-9f6b-ccceb5861601",
   "metadata": {},
   "outputs": [],
   "source": [
    "p1.last_name = \"verma\""
   ]
  },
  {
   "cell_type": "code",
   "execution_count": 97,
   "id": "20b67969-fc02-44dd-bb5e-614d93392cac",
   "metadata": {},
   "outputs": [
    {
     "data": {
      "text/plain": [
       "'hii my name is Bhavnish verma'"
      ]
     },
     "execution_count": 97,
     "metadata": {},
     "output_type": "execute_result"
    }
   ],
   "source": [
    "p1.names()"
   ]
  },
  {
   "cell_type": "code",
   "execution_count": 2,
   "id": "1f0252e2-0138-42b6-8095-43e9bf0ee8ca",
   "metadata": {},
   "outputs": [],
   "source": [
    "#inhatitance\n",
    "#inharitance allow us to define a class that inharits  the properties and method from another class"
   ]
  },
  {
   "cell_type": "code",
   "execution_count": 6,
   "id": "60b23c35-ba0d-4d1e-b371-a4948e9f491a",
   "metadata": {},
   "outputs": [
    {
     "data": {
      "text/plain": [
       "'my name is Manish Kumar'"
      ]
     },
     "execution_count": 6,
     "metadata": {},
     "output_type": "execute_result"
    }
   ],
   "source": [
    "class person:\n",
    "    def __init__(self,first_name, last_name):\n",
    "        self.first_name = first_name\n",
    "        self.last_name = last_name\n",
    "    def print_name(self):\n",
    "        return(f\"my name is {self.first_name} {self.last_name}\")\n",
    "p1 = person(\"Manish\",\"Kumar\")\n",
    "p1.print_name()"
   ]
  },
  {
   "cell_type": "code",
   "execution_count": 8,
   "id": "c618bb16-6430-4f61-8ca6-6405fe3ed73c",
   "metadata": {},
   "outputs": [
    {
     "data": {
      "text/plain": [
       "'my name is Bhavnish Kumar'"
      ]
     },
     "execution_count": 8,
     "metadata": {},
     "output_type": "execute_result"
    }
   ],
   "source": [
    "class student(person):\n",
    "    pass\n",
    "s1 = student(\"Bhavnish\",\"Kumar\")\n",
    "s1.print_name()"
   ]
  },
  {
   "cell_type": "code",
   "execution_count": 72,
   "id": "cc82acae-68c0-488b-98b2-277143350453",
   "metadata": {},
   "outputs": [
    {
     "data": {
      "text/plain": [
       "180"
      ]
     },
     "execution_count": 72,
     "metadata": {},
     "output_type": "execute_result"
    }
   ],
   "source": [
    "\n",
    "sum1 = 0\n",
    "class sum:\n",
    "    def __init__(self,*args):\n",
    "        self.args = args\n",
    "    def add(self):\n",
    "        global sum1\n",
    "        for i in self.args:\n",
    "            sum1+=i\n",
    "        return sum1\n",
    "s1 = sum(35,35,64,46)\n",
    "s1.add()"
   ]
  },
  {
   "cell_type": "code",
   "execution_count": 84,
   "id": "8a0082fd-3d78-4b79-929b-b176eb7b1812",
   "metadata": {},
   "outputs": [
    {
     "data": {
      "text/plain": [
       "'This is Maruti alto which is red in color and model is 1999'"
      ]
     },
     "execution_count": 84,
     "metadata": {},
     "output_type": "execute_result"
    }
   ],
   "source": [
    "#another example of inharitance\n",
    "class maruti:\n",
    "    def __init__ (self,model,color,year):\n",
    "        self.model = model\n",
    "        self.color = color\n",
    "        self.year = year\n",
    "    def about_car(self):\n",
    "        return (f\"This is Maruti {self.model} which is {self.color} in color and model is {self.year}\")\n",
    "f1 = maruti(\"alto\",\"red\",1999)\n",
    "f1.about_car()"
   ]
  },
  {
   "cell_type": "code",
   "execution_count": 105,
   "id": "27d8818d-d841-48e5-af8c-a6ae5ca9b426",
   "metadata": {},
   "outputs": [
    {
     "data": {
      "text/plain": [
       "'This is Maruti fronx which is blue in color and model is 2024'"
      ]
     },
     "execution_count": 105,
     "metadata": {},
     "output_type": "execute_result"
    }
   ],
   "source": [
    "class Fronx(maruti):\n",
    "    pass\n",
    "f1 = Fronx(\"fronx\",\"blue\", 2024)\n",
    "f1.about_car()"
   ]
  },
  {
   "cell_type": "code",
   "execution_count": 159,
   "id": "28e03c0e-d3a1-4de7-8ed4-0f77da3bdef8",
   "metadata": {},
   "outputs": [
    {
     "data": {
      "text/plain": [
       "'Manish Kumar 25'"
      ]
     },
     "execution_count": 159,
     "metadata": {},
     "output_type": "execute_result"
    }
   ],
   "source": [
    "#__init__ in child\n",
    "class parent:\n",
    "    def __init__(self,first_name, last_name,age):\n",
    "        self.first_name = first_name\n",
    "        self.last_name = last_name\n",
    "        self.age = age\n",
    "    def print_name(self):\n",
    "        return(f\"{self.first_name} {self.last_name} {self.age}\")\n",
    "p1 = parent(\"Manish\",\"Kumar\",25)\n",
    "p1.print_name()"
   ]
  },
  {
   "cell_type": "code",
   "execution_count": 169,
   "id": "9241938f-109e-4fcb-8780-547cf01a688b",
   "metadata": {},
   "outputs": [
    {
     "data": {
      "text/plain": [
       "'Bhavnish Kumar 25'"
      ]
     },
     "execution_count": 169,
     "metadata": {},
     "output_type": "execute_result"
    }
   ],
   "source": [
    "class child1(parent):\n",
    "    pass\n",
    "c1 = child1(\"Bhavnish\",\"Kumar\",25)\n",
    "c1.print_name()"
   ]
  },
  {
   "cell_type": "code",
   "execution_count": 171,
   "id": "e364ec13-5319-4c0d-b471-8a947eeb9e3a",
   "metadata": {},
   "outputs": [],
   "source": [
    "class child2(parent):\n",
    "    def __init__(self,first_name,last_name):\n",
    "        self.first_name = first_name\n",
    "        self.last_name  = last_name\n",
    "    def print_name(self):\n",
    "        return(f\"{self.first_name} {self.last_name} {self.age}\")"
   ]
  },
  {
   "cell_type": "code",
   "execution_count": 5,
   "id": "6c4af94e-9b43-4cc2-ba19-9b3622ac5bc3",
   "metadata": {},
   "outputs": [
    {
     "name": "stdout",
     "output_type": "stream",
     "text": [
      "Hii my name is Manish i am Brown in color and my age is 25\n"
     ]
    }
   ],
   "source": [
    "class manish:\n",
    "    def __init__(self,color,age):\n",
    "        self.color = color\n",
    "        self.age = age\n",
    "    def print_fun(self):\n",
    "        print(f\"Hii my name is Manish i am {self.color} in color and my age is {self.age}\")\n",
    "me = manish(\"Brown\",25)\n",
    "me.print_fun()"
   ]
  },
  {
   "cell_type": "code",
   "execution_count": 7,
   "id": "389f5204-1601-4ffa-a7a0-ee5647fb6d39",
   "metadata": {},
   "outputs": [],
   "source": [
    "#polymorphism\n",
    "#polymorphism refers to many form in programming it means the functions with same name that can be executed on many objects"
   ]
  },
  {
   "cell_type": "code",
   "execution_count": 34,
   "id": "7cc9c9c6-a070-46ea-8c8a-ae60129df08f",
   "metadata": {},
   "outputs": [
    {
     "name": "stdout",
     "output_type": "stream",
     "text": [
      "Ford\n",
      "GT\n",
      "Drive!\n",
      "Ibiza\n",
      "Touring 20\n",
      "Sail!\n",
      "Boeng\n",
      "747\n",
      "Fly!\n"
     ]
    }
   ],
   "source": [
    "class Car:\n",
    "    def __init__ (self,brand,model):\n",
    "        self.brand = brand\n",
    "        self.model = model\n",
    "    def move(self):\n",
    "        print(\"Drive!\")\n",
    "class Boat:\n",
    "    def __init__ (self, brand, model):\n",
    "        self.brand = brand\n",
    "        self.model = model\n",
    "    def move(self):\n",
    "        print(\"Sail!\")\n",
    "class Plane:\n",
    "    def __init__ (self, brand, model):\n",
    "        self.brand = brand\n",
    "        self.model = model\n",
    "    def move(self):\n",
    "        print(\"Fly!\")\n",
    "car = Car(\"Ford\",\"GT\")\n",
    "boat = Boat(\"Ibiza\",\"Touring 20\")\n",
    "plane = Plane(\"Boeng\",\"747\")\n",
    "for x in (car,boat,plane):\n",
    "    print(x.brand)\n",
    "    print(x.model)\n",
    "    x.move()"
   ]
  },
  {
   "cell_type": "code",
   "execution_count": 13,
   "id": "98f37d21-7bdc-4532-aa33-7dd42f83f74c",
   "metadata": {},
   "outputs": [
    {
     "name": "stdout",
     "output_type": "stream",
     "text": [
      "Ford\n",
      "GT\n",
      "Move!\n",
      "Ibiza\n",
      "touring 20\n",
      "Sail!\n",
      "Boeing\n",
      "747\n",
      "Fly!\n"
     ]
    }
   ],
   "source": [
    "#inharitance in polymorphism\n",
    "class Vehicle:\n",
    "    def __init__ (self, brand,model):\n",
    "        self.brand = brand\n",
    "        self.model = model\n",
    "    def move(self):\n",
    "        print(\"Move!\")\n",
    "class Car(Vehicle):\n",
    "    pass\n",
    "class Boat(Vehicle):\n",
    "    def move(self):\n",
    "        print(\"Sail!\")\n",
    "class Plane(Vehicle):\n",
    "    def move(self):\n",
    "        print(\"Fly!\")\n",
    "car = Car(\"Ford\", \"GT\")\n",
    "boat = Boat(\"Ibiza\", \"touring 20\")\n",
    "plane = Plane(\"Boeing\", \"747\")\n",
    "for i in (car, boat,plane):\n",
    "    print(i.brand)\n",
    "    print(i.model)\n",
    "    i.move()"
   ]
  },
  {
   "cell_type": "code",
   "execution_count": 40,
   "id": "8450317c-c41e-4179-94df-f586a12c6614",
   "metadata": {},
   "outputs": [
    {
     "name": "stdout",
     "output_type": "stream",
     "text": [
      "Ford\n",
      "Mustang\n",
      "Move!\n",
      "Ibiza\n",
      "Touring 20\n",
      "Sail!\n",
      "Boeing\n",
      "747\n",
      "Fly!\n"
     ]
    }
   ],
   "source": [
    "class Vehicle:\n",
    "  def __init__(self, brand, model):\n",
    "    self.brand = brand\n",
    "    self.model = model\n",
    "\n",
    "  def move(self):\n",
    "    print(\"Move!\")\n",
    "\n",
    "class Car(Vehicle):\n",
    "  pass\n",
    "\n",
    "class Boat(Vehicle):\n",
    "  def move(self):\n",
    "    print(\"Sail!\")\n",
    "\n",
    "class Plane(Vehicle):\n",
    "  def move(self):\n",
    "    print(\"Fly!\")\n",
    "\n",
    "car1 = Car(\"Ford\", \"Mustang\")       #Create a Car object\n",
    "boat1 = Boat(\"Ibiza\", \"Touring 20\") #Create a Boat object\n",
    "plane1 = Plane(\"Boeing\", \"747\")     #Create a Plane object\n",
    "\n",
    "for x in (car1, boat1, plane1):\n",
    "  print(x.brand)\n",
    "  print(x.model)\n",
    "  x.move()"
   ]
  },
  {
   "cell_type": "code",
   "execution_count": null,
   "id": "084bb214-f1b7-48ed-bcf1-ed4e44201876",
   "metadata": {},
   "outputs": [],
   "source": [
    "#w3school only have inharitance and polymorphism\n",
    "#oops with chai aur code "
   ]
  },
  {
   "cell_type": "code",
   "execution_count": 31,
   "id": "6994e5a6-8f87-4bf9-840a-abd27e819cda",
   "metadata": {},
   "outputs": [
    {
     "name": "stdout",
     "output_type": "stream",
     "text": [
      "this is Audi R8\n"
     ]
    }
   ],
   "source": [
    "#Class Method and Self\n",
    "#Problem: Add a method to the Car class that displays the full name of the car (brand and model).\n",
    "class Car:\n",
    "    def __init__(self,brand,model):\n",
    "        self.brand = brand\n",
    "        self.model = model\n",
    "    def __str__(self):\n",
    "        return(f\"this is {self.brand} {self.model}\")\n",
    "car = Car(\"Audi\",\"R8\")\n",
    "print(car)"
   ]
  },
  {
   "cell_type": "code",
   "execution_count": 70,
   "id": "0f15da97-de6b-44a3-a39c-f67093905bbc",
   "metadata": {},
   "outputs": [
    {
     "data": {
      "text/plain": [
       "'R8 Audi'"
      ]
     },
     "execution_count": 70,
     "metadata": {},
     "output_type": "execute_result"
    }
   ],
   "source": [
    "class Car:\n",
    "    def __init__(self,brand,model):\n",
    "        self.model = model\n",
    "        self.brand = brand\n",
    "    def petrolcar(self):\n",
    "        return f\"{self.model} {self.brand}\"\n",
    "car = Car(\"Audi\",\"R8\")\n",
    "car.petrolcar()"
   ]
  },
  {
   "cell_type": "code",
   "execution_count": 74,
   "id": "c699a28f-8399-4fed-a6c0-03c4d321f635",
   "metadata": {},
   "outputs": [],
   "source": [
    "class Ecar(Car):\n",
    "    def __init__(self,brand,model,battery_size):\n",
    "        super().__init__(brand,model)\n",
    "        self.battery_size = battery_size\n",
    "    def __str__(self):\n",
    "        return (f\"This is {self.brand} {self.model} EV having battery size {self.battery_size}\")\n",
    "ecar = Ecar(\"Audi\",\"R8\",\"675\")"
   ]
  },
  {
   "cell_type": "code",
   "execution_count": 76,
   "id": "ac6cbc55-c0e6-4d99-ab52-94f4f1547da8",
   "metadata": {},
   "outputs": [
    {
     "name": "stdout",
     "output_type": "stream",
     "text": [
      "This is Audi R8 EV having battery size 675\n"
     ]
    }
   ],
   "source": [
    "print(ecar)"
   ]
  },
  {
   "cell_type": "code",
   "execution_count": 78,
   "id": "89317b20-0fca-43df-8656-ed6d5314afc5",
   "metadata": {},
   "outputs": [
    {
     "data": {
      "text/plain": [
       "'R8 Audi'"
      ]
     },
     "execution_count": 78,
     "metadata": {},
     "output_type": "execute_result"
    }
   ],
   "source": [
    "ecar.petrolcar()"
   ]
  },
  {
   "cell_type": "code",
   "execution_count": 80,
   "id": "24ff58fa-35b8-4085-be4a-bbea1050b823",
   "metadata": {},
   "outputs": [],
   "source": [
    "#Encapsulation\n",
    "#in python it refers to bundling attributes and methods in a single class\n",
    "#it can be achived through public, protected, and private attributes"
   ]
  },
  {
   "cell_type": "code",
   "execution_count": 118,
   "id": "a452a4db-779e-4ea4-89d4-9e46d1cf4fe7",
   "metadata": {},
   "outputs": [],
   "source": [
    "class Car:\n",
    "    def __init__(self,brand,model):\n",
    "        self.__brand = brand\n",
    "        self.model = model\n",
    "    def get_brand(self):\n",
    "        return(self.__brand)"
   ]
  },
  {
   "cell_type": "code",
   "execution_count": 120,
   "id": "ad4d21e9-aaec-4aa8-9426-5dca436995cc",
   "metadata": {},
   "outputs": [],
   "source": [
    "car = Car(\"Audi\",\"R8\")"
   ]
  },
  {
   "cell_type": "code",
   "execution_count": 122,
   "id": "c4a26233-fd11-40de-bc45-049850910a91",
   "metadata": {},
   "outputs": [
    {
     "data": {
      "text/plain": [
       "'R8'"
      ]
     },
     "execution_count": 122,
     "metadata": {},
     "output_type": "execute_result"
    }
   ],
   "source": [
    "car.model"
   ]
  },
  {
   "cell_type": "code",
   "execution_count": 124,
   "id": "b49f161a-1277-40d8-b0c0-4ba88df8c774",
   "metadata": {},
   "outputs": [
    {
     "ename": "AttributeError",
     "evalue": "'Car' object has no attribute 'brand'",
     "output_type": "error",
     "traceback": [
      "\u001b[0;31m---------------------------------------------------------------------------\u001b[0m",
      "\u001b[0;31mAttributeError\u001b[0m                            Traceback (most recent call last)",
      "Cell \u001b[0;32mIn[124], line 1\u001b[0m\n\u001b[0;32m----> 1\u001b[0m car\u001b[38;5;241m.\u001b[39mbrand\n",
      "\u001b[0;31mAttributeError\u001b[0m: 'Car' object has no attribute 'brand'"
     ]
    }
   ],
   "source": [
    "car.brand"
   ]
  },
  {
   "cell_type": "code",
   "execution_count": 126,
   "id": "7ac3ce5a-cadf-4ae5-b5af-c015c5525254",
   "metadata": {},
   "outputs": [
    {
     "data": {
      "text/plain": [
       "'Audi'"
      ]
     },
     "execution_count": 126,
     "metadata": {},
     "output_type": "execute_result"
    }
   ],
   "source": [
    "car.get_brand()"
   ]
  },
  {
   "cell_type": "code",
   "execution_count": 153,
   "id": "4d98b7ca-6c4a-41b0-8779-6614f7111353",
   "metadata": {},
   "outputs": [],
   "source": [
    "#one more example of private \n",
    "class person:\n",
    "    def __init__(self,name,age):\n",
    "        self.age = age\n",
    "        self.name = name"
   ]
  },
  {
   "cell_type": "code",
   "execution_count": 155,
   "id": "708fae7b-b6bf-4605-b047-49691f1c5908",
   "metadata": {},
   "outputs": [
    {
     "data": {
      "text/plain": [
       "'Manish'"
      ]
     },
     "execution_count": 155,
     "metadata": {},
     "output_type": "execute_result"
    }
   ],
   "source": [
    "p1 = person(\"Manish\",25)\n",
    "p1.name"
   ]
  },
  {
   "cell_type": "code",
   "execution_count": 157,
   "id": "7a821e4a-4bda-485c-b4ec-014404cb9316",
   "metadata": {},
   "outputs": [
    {
     "data": {
      "text/plain": [
       "25"
      ]
     },
     "execution_count": 157,
     "metadata": {},
     "output_type": "execute_result"
    }
   ],
   "source": [
    "p1.age"
   ]
  },
  {
   "cell_type": "code",
   "execution_count": 163,
   "id": "65bb1829-f042-492f-93b2-de7838ee647d",
   "metadata": {},
   "outputs": [],
   "source": [
    "class student(person):\n",
    "    def __init__(self,name,age,qualification):\n",
    "        super().__init__(name,age)\n",
    "        self.qualification = qualification\n",
    "    def print(self):\n",
    "        return(f\"{name} {qualification}\")\n"
   ]
  },
  {
   "cell_type": "code",
   "execution_count": 165,
   "id": "74293e1c-d31f-4679-a905-80612ad1cac2",
   "metadata": {},
   "outputs": [],
   "source": [
    "s1 = student(\"Manish\",\"25\",\"M.Tech\")"
   ]
  },
  {
   "cell_type": "code",
   "execution_count": 185,
   "id": "503b0485-f166-4cc6-811a-e8adee300a71",
   "metadata": {},
   "outputs": [],
   "source": [
    "#Polymorphism\n",
    "#Problem: Demonstrate polymorphism by defining a method fuel_type in both Car and ElectricCar classes, but with different behaviors.\n",
    "class Car:\n",
    "    def __init__ (self,brand,model):\n",
    "        self.brand = brand\n",
    "        self.model = model \n",
    "    def fuel_type (self):\n",
    "        return f\"{self.brand} {self.model} Petrol/Diesel\""
   ]
  },
  {
   "cell_type": "code",
   "execution_count": 187,
   "id": "e0f6fd62-9742-40f2-b449-227059f4fb87",
   "metadata": {},
   "outputs": [],
   "source": [
    "car = Car(\"Audi\",\"R8\")"
   ]
  },
  {
   "cell_type": "code",
   "execution_count": 189,
   "id": "a693b88f-e4ca-4954-83e4-56736096f3c3",
   "metadata": {},
   "outputs": [
    {
     "data": {
      "text/plain": [
       "'Audi R8 Petrol/Diesel'"
      ]
     },
     "execution_count": 189,
     "metadata": {},
     "output_type": "execute_result"
    }
   ],
   "source": [
    "car.fuel_type()"
   ]
  },
  {
   "cell_type": "code",
   "execution_count": 191,
   "id": "071b8de2-9633-40a7-83ac-94205b2633d9",
   "metadata": {},
   "outputs": [],
   "source": [
    "class Ecar(Car):\n",
    "    def __init__(self,brand,model):\n",
    "        super().__init__(brand,model)\n",
    "    def fuel_type(self):\n",
    "        return f\"{self.brand} {self.model} Electric Vehicle\"\n"
   ]
  },
  {
   "cell_type": "code",
   "execution_count": 193,
   "id": "3bd036a9-6984-4a96-a8f0-2a024e42d85f",
   "metadata": {},
   "outputs": [
    {
     "name": "stdout",
     "output_type": "stream",
     "text": [
      "Audi R8 Petrol/Diesel\n",
      "Audi R8 Electric Vehicle\n"
     ]
    }
   ],
   "source": [
    "car = Car(\"Audi\",\"R8\")\n",
    "print(car.fuel_type())\n",
    "ecar = Ecar(\"Audi\",\"R8\")\n",
    "print(ecar.fuel_type())"
   ]
  },
  {
   "cell_type": "code",
   "execution_count": 195,
   "id": "bc860331-d9c8-4786-b3c4-1c7c05d6e3d8",
   "metadata": {},
   "outputs": [
    {
     "name": "stdout",
     "output_type": "stream",
     "text": [
      "Audi R8 Petrol/Diesel\n",
      "Audi R8 Electric Vehicle\n"
     ]
    }
   ],
   "source": [
    "for i in (car,ecar):\n",
    "    print(i.fuel_type())"
   ]
  },
  {
   "cell_type": "code",
   "execution_count": 214,
   "id": "44a9b140-1634-4fee-baf2-2da12fd7bf5f",
   "metadata": {},
   "outputs": [
    {
     "name": "stdout",
     "output_type": "stream",
     "text": [
      "Car is a easy mean of transport\n"
     ]
    }
   ],
   "source": [
    "#static method decorator : it is a decarator\n",
    "#usage: it does not allow object to get info from method\n",
    "class Car:\n",
    "    def __init__(self,brand):\n",
    "        self.brand = brand\n",
    "    @staticmethod\n",
    "    def general_description():\n",
    "        print(\"Car is a easy mean of transport\")\n",
    "car = Car(\"test\")\n",
    "car.general_description()"
   ]
  },
  {
   "cell_type": "code",
   "execution_count": 218,
   "id": "f2c92a82-f64d-4deb-a1f4-f8c51edc66b6",
   "metadata": {},
   "outputs": [
    {
     "name": "stdout",
     "output_type": "stream",
     "text": [
      "Car is a easy mean of transport\n"
     ]
    }
   ],
   "source": [
    "Car.general_description()"
   ]
  },
  {
   "cell_type": "code",
   "execution_count": 220,
   "id": "83815faa-b8f3-4c4a-8ba6-4b56a9bd7152",
   "metadata": {},
   "outputs": [
    {
     "name": "stdout",
     "output_type": "stream",
     "text": [
      "Car is a easy mean of transport\n"
     ]
    }
   ],
   "source": [
    "car.general_description()"
   ]
  },
  {
   "cell_type": "code",
   "execution_count": 222,
   "id": "4b0ac193-ffe8-4255-bc4f-2fffdbffa448",
   "metadata": {},
   "outputs": [],
   "source": [
    "#property decorator : make the class attribute in read only mode"
   ]
  },
  {
   "cell_type": "code",
   "execution_count": null,
   "id": "c176a71a-8cb4-4e37-a65a-315641e22995",
   "metadata": {},
   "outputs": [],
   "source": []
  }
 ],
 "metadata": {
  "kernelspec": {
   "display_name": "Python [conda env:base] *",
   "language": "python",
   "name": "conda-base-py"
  },
  "language_info": {
   "codemirror_mode": {
    "name": "ipython",
    "version": 3
   },
   "file_extension": ".py",
   "mimetype": "text/x-python",
   "name": "python",
   "nbconvert_exporter": "python",
   "pygments_lexer": "ipython3",
   "version": "3.12.7"
  }
 },
 "nbformat": 4,
 "nbformat_minor": 5
}
