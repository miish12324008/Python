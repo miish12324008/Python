{
 "cells": [
  {
   "cell_type": "code",
   "execution_count": 4,
   "id": "faa18868-16f6-48e3-9b6f-440cc97761e0",
   "metadata": {},
   "outputs": [
    {
     "name": "stdout",
     "output_type": "stream",
     "text": [
      "6\n"
     ]
    }
   ],
   "source": [
    "#Counting Positive Numbers\n",
    "#Problem: Given a list of numbers, count how many are positive.\n",
    "#numbers = [1, -2, 3, -4, 5, 6, -7, -8, 9, 10]\n",
    "numbers = [1, -2, 3, -4, 5, 6, -7, -8, 9, 10]\n",
    "count = 0\n",
    "for i in numbers:\n",
    "    if i >= 0:\n",
    "        count+=1\n",
    "print(count)"
   ]
  },
  {
   "cell_type": "code",
   "execution_count": 16,
   "id": "b4842d35-b6bc-4b87-9411-92feb3ae7041",
   "metadata": {},
   "outputs": [
    {
     "name": "stdin",
     "output_type": "stream",
     "text": [
      "Enter a number 5\n"
     ]
    },
    {
     "name": "stdout",
     "output_type": "stream",
     "text": [
      "6\n"
     ]
    }
   ],
   "source": [
    "#Sum of Even Numbers\n",
    "#Problem: Calculate the sum of even numbers up to a given number n.\n",
    "num = int(input(\"Enter a number\"))\n",
    "Sum = 0\n",
    "for i in range(1,num):\n",
    "    if(i%2 == 0):\n",
    "        Sum+=i\n",
    "print(Sum)        "
   ]
  },
  {
   "cell_type": "code",
   "execution_count": 33,
   "id": "0f78f5e6-ea44-4a66-893e-698362b6518a",
   "metadata": {},
   "outputs": [
    {
     "name": "stdin",
     "output_type": "stream",
     "text": [
      "Enter a number:  5\n"
     ]
    },
    {
     "name": "stdout",
     "output_type": "stream",
     "text": [
      "5 X 1 = 5\n",
      "5 X 2 = 10\n",
      "5 X 3 = 15\n",
      "5 X 4 = 20\n",
      "5 X 6 = 30\n",
      "5 X 7 = 35\n",
      "5 X 8 = 40\n",
      "5 X 9 = 45\n",
      "5 X 10 = 50\n"
     ]
    }
   ],
   "source": [
    "#Multiplication Table Printer\n",
    "#Problem: Print the multiplication table for a given number up to 10, but skip the fifth iteration.\n",
    "num = int(input(\"Enter a number: \"))\n",
    "for i in range(1,11):\n",
    "    if(i == 5):\n",
    "        continue\n",
    "    else:\n",
    "        print(f\"{num} X {i} = {num*i}\")"
   ]
  },
  {
   "cell_type": "code",
   "execution_count": 52,
   "id": "3ad6fcd0-3525-4b5f-9de6-dfc74c064d9b",
   "metadata": {},
   "outputs": [
    {
     "name": "stdin",
     "output_type": "stream",
     "text": [
      "Enter a string:  manish kumar vashist\n"
     ]
    },
    {
     "name": "stdout",
     "output_type": "stream",
     "text": [
      "t\n",
      "s\n",
      "i\n",
      "h\n",
      "s\n",
      "a\n",
      "v\n",
      " \n",
      "r\n",
      "a\n",
      "m\n",
      "u\n",
      "k\n",
      " \n",
      "h\n",
      "s\n",
      "i\n",
      "n\n",
      "a\n",
      "m\n"
     ]
    }
   ],
   "source": [
    "#Reverse a String\n",
    "#Problem: Reverse a string using a loop.\n",
    "string = str(input(\"Enter a string: \"))\n",
    "for i in range(len(string)-1,-1,-1):\n",
    "    print(string[i])"
   ]
  },
  {
   "cell_type": "code",
   "execution_count": 62,
   "id": "54118159-8a16-4a70-b340-f01ac8a7ea7c",
   "metadata": {},
   "outputs": [
    {
     "name": "stdout",
     "output_type": "stream",
     "text": [
      "vashist\n",
      "kumar\n",
      "manish\n"
     ]
    }
   ],
   "source": [
    "for i in range(len(string.split(\" \"))-1,-1,-1):\n",
    "    print(string.split(\" \")[i])"
   ]
  },
  {
   "cell_type": "code",
   "execution_count": 90,
   "id": "ba71b623-178e-43b8-a1bc-fabf52e8b76e",
   "metadata": {},
   "outputs": [
    {
     "name": "stdin",
     "output_type": "stream",
     "text": [
      "Enter a number:  6\n"
     ]
    },
    {
     "name": "stdout",
     "output_type": "stream",
     "text": [
      "720\n"
     ]
    }
   ],
   "source": [
    "#Factorial Calculator\n",
    "#Problem: Compute the factorial of a number using a while loop.\n",
    "number = int(input(\"Enter a number: \"))\n",
    "factNum = number\n",
    "while(number>1):\n",
    "    factNum*=number-1\n",
    "    number-=1\n",
    "print(factNum)"
   ]
  },
  {
   "cell_type": "code",
   "execution_count": 94,
   "id": "8e7e18f1-c9b8-4e0f-bb8e-d945d89b899d",
   "metadata": {},
   "outputs": [
    {
     "name": "stdin",
     "output_type": "stream",
     "text": [
      "Enter a number:  1\n",
      "Enter a number:  2\n",
      "Enter a number:  5\n",
      "Enter a number:  84\n"
     ]
    },
    {
     "name": "stdout",
     "output_type": "stream",
     "text": [
      "Entered number is greater than 10\n"
     ]
    }
   ],
   "source": [
    "#Validate Input\n",
    "#Problem: Keep asking the user for input until they enter a number between 1 and 10.\n",
    "while(True):\n",
    "    num = int(input(\"Enter a number: \"))\n",
    "    if(num>10):\n",
    "        print(\"Entered number is greater than 10\")\n",
    "        break"
   ]
  },
  {
   "cell_type": "code",
   "execution_count": 183,
   "id": "674938c1-2493-42dd-82bf-240c29a05e99",
   "metadata": {},
   "outputs": [
    {
     "name": "stdin",
     "output_type": "stream",
     "text": [
      "Enter a number:  9\n"
     ]
    },
    {
     "name": "stdout",
     "output_type": "stream",
     "text": [
      "Not Prime\n"
     ]
    }
   ],
   "source": [
    "#Prime Number Checker\n",
    "#Problem: Check if a number is prime.\n",
    "number = int(input(\"Enter a number: \"))\n",
    "count = 0\n",
    "for i in range(2,number):#2345\n",
    "    if(number%i == 0):\n",
    "        count+=1\n",
    "        break\n",
    "if(count==1):\n",
    "    print(\"Not Prime\")\n",
    "else:\n",
    "    print(\"prime\")"
   ]
  },
  {
   "cell_type": "code",
   "execution_count": 201,
   "id": "3075d2a2-720f-4cc1-b958-dfa7f12e80dd",
   "metadata": {},
   "outputs": [
    {
     "name": "stdout",
     "output_type": "stream",
     "text": [
      "Duplicate:  apple\n"
     ]
    }
   ],
   "source": [
    "#List Uniqueness Checker\n",
    "#Problem: Check if all elements in a list are unique. If a duplicate is found, exit the loop and print the duplicate.\n",
    "#items = [\"apple\", \"banana\", \"orange\", \"apple\", \"mango\"]\n",
    "items = [\"apple\", \"banana\", \"orange\", \"apple\", \"mango\"]\n",
    "items.sort()\n",
    "for i in range(len(items)-1):\n",
    "    if(items[i] == items[i+1]):\n",
    "        print(\"Duplicate: \" , items[i])\n",
    "        break"
   ]
  },
  {
   "cell_type": "code",
   "execution_count": 213,
   "id": "7f8898f1-e3bf-41f3-ad03-2c02f5bc9ab8",
   "metadata": {},
   "outputs": [
    {
     "name": "stdout",
     "output_type": "stream",
     "text": [
      "duplicate value:  apple\n"
     ]
    }
   ],
   "source": [
    "#another method\n",
    "dupValues = set()\n",
    "for x in items:\n",
    "    if(x in dupValues):\n",
    "        print(\"duplicate value: \" ,x)\n",
    "        break\n",
    "    dupValues.add(x)"
   ]
  },
  {
   "cell_type": "code",
   "execution_count": 218,
   "id": "984ba659-6e71-4bc8-87c5-de7e832afff6",
   "metadata": {},
   "outputs": [
    {
     "name": "stdout",
     "output_type": "stream",
     "text": [
      "j\n"
     ]
    }
   ],
   "source": [
    "#Find the First Non-Repeated Character\n",
    "#Problem: Given a string, find the first non-repeated character.\n",
    "string = \"aabajdufb\"\n",
    "for x in string:\n",
    "    if(string.count(x) == 1):\n",
    "        print(x)\n",
    "        break"
   ]
  },
  {
   "cell_type": "code",
   "execution_count": null,
   "id": "c3cb431f-85a2-48fa-8dae-57e8564509c9",
   "metadata": {},
   "outputs": [],
   "source": []
  }
 ],
 "metadata": {
  "kernelspec": {
   "display_name": "Python [conda env:base] *",
   "language": "python",
   "name": "conda-base-py"
  },
  "language_info": {
   "codemirror_mode": {
    "name": "ipython",
    "version": 3
   },
   "file_extension": ".py",
   "mimetype": "text/x-python",
   "name": "python",
   "nbconvert_exporter": "python",
   "pygments_lexer": "ipython3",
   "version": "3.12.7"
  }
 },
 "nbformat": 4,
 "nbformat_minor": 5
}
