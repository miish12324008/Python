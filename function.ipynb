{
 "cells": [
  {
   "cell_type": "code",
   "execution_count": 4,
   "id": "75c50214-6686-439f-bd41-4e2e62f168d4",
   "metadata": {},
   "outputs": [
    {
     "name": "stdin",
     "output_type": "stream",
     "text": [
      "Enter a number:  2\n"
     ]
    },
    {
     "data": {
      "text/plain": [
       "4"
      ]
     },
     "execution_count": 4,
     "metadata": {},
     "output_type": "execute_result"
    }
   ],
   "source": [
    "#Basic Function Syntax\n",
    "#Problem: Write a function to calculate and return the square of a number.\n",
    "num = int(input(\"Enter a number: \"))\n",
    "def square(num):\n",
    "    return(pow(num,2))\n",
    "square(num)"
   ]
  },
  {
   "cell_type": "code",
   "execution_count": 6,
   "id": "bfe1ac91-22ad-4b46-9bd1-cde62d5b0fe4",
   "metadata": {},
   "outputs": [
    {
     "name": "stdin",
     "output_type": "stream",
     "text": [
      "Enter first number:  2\n",
      "Enter second number:  4\n"
     ]
    },
    {
     "data": {
      "text/plain": [
       "6"
      ]
     },
     "execution_count": 6,
     "metadata": {},
     "output_type": "execute_result"
    }
   ],
   "source": [
    "#Function with Multiple Parameters\n",
    "#Problem: Create a function that takes two numbers as parameters and returns their sum.\n",
    "numA = int(input(\"Enter first number: \"))\n",
    "numB = int(input(\"Enter second number: \"))\n",
    "def sum(numA,numB):\n",
    "    return(numA+numB)\n",
    "sum(numA,numB)"
   ]
  },
  {
   "cell_type": "code",
   "execution_count": 30,
   "id": "74825792-5e08-45ca-be42-e53e915dd01f",
   "metadata": {},
   "outputs": [
    {
     "name": "stdin",
     "output_type": "stream",
     "text": [
      "Enter radius of a circle:  5\n"
     ]
    },
    {
     "data": {
      "text/plain": [
       "'\\n           area of circle is: 78.53981633974483\\n           circumference of circle is (6.283185307179586, 5) \\n           '"
      ]
     },
     "execution_count": 30,
     "metadata": {},
     "output_type": "execute_result"
    }
   ],
   "source": [
    "#Function Returning Multiple Values\n",
    "#Problem: Create a function that returns both the area and circumference of a circle given its radius.\n",
    "import math\n",
    "radius = int(input(\"Enter radius of a circle: \"))\n",
    "def circle(radius):\n",
    "    return(f\"\"\"\n",
    "           area of circle is: {math.pi*pow(radius,2)}\n",
    "           circumference of circle is {2*math.pi,radius} \n",
    "           \"\"\")\n",
    "circle(radius)"
   ]
  },
  {
   "cell_type": "code",
   "execution_count": 44,
   "id": "0440d37d-2805-4703-a88d-8850fac78356",
   "metadata": {},
   "outputs": [
    {
     "name": "stdin",
     "output_type": "stream",
     "text": [
      "Enter your name:  manish\n"
     ]
    },
    {
     "name": "stdout",
     "output_type": "stream",
     "text": [
      "heyy  manish\n",
      "heyy  user\n"
     ]
    }
   ],
   "source": [
    "#Default Parameter Value\n",
    "#Problem: Write a function that greets a user. If no name is provided, it should greet with a default name.\n",
    "name = str(input(\"Enter your name: \"))\n",
    "def greet(name = \"user\"):\n",
    "    print(\"heyy \",name)\n",
    "greet(name)\n",
    "greet()"
   ]
  },
  {
   "cell_type": "code",
   "execution_count": 48,
   "id": "eb992860-7db3-474f-b500-4d64bdd56281",
   "metadata": {},
   "outputs": [
    {
     "name": "stdin",
     "output_type": "stream",
     "text": [
      "Enter a number:  8\n"
     ]
    },
    {
     "data": {
      "text/plain": [
       "512"
      ]
     },
     "execution_count": 48,
     "metadata": {},
     "output_type": "execute_result"
    }
   ],
   "source": [
    "#Lambda Function\n",
    "#Problem: Create a lambda function to compute the cube of a number.\n",
    "num = int(input(\"Enter a number: \"))\n",
    "cube = lambda num : pow(num,3)\n",
    "cube(num)"
   ]
  },
  {
   "cell_type": "code",
   "execution_count": 21,
   "id": "8fe003f8-c0af-4bb3-aa89-1655275d5abc",
   "metadata": {},
   "outputs": [
    {
     "name": "stdin",
     "output_type": "stream",
     "text": [
      "how many numbers do you want in your list:  4\n"
     ]
    },
    {
     "name": "stdout",
     "output_type": "stream",
     "text": [
      "enter value 1\n"
     ]
    },
    {
     "name": "stdin",
     "output_type": "stream",
     "text": [
      " 1\n"
     ]
    },
    {
     "name": "stdout",
     "output_type": "stream",
     "text": [
      "enter value 2\n"
     ]
    },
    {
     "name": "stdin",
     "output_type": "stream",
     "text": [
      " 2\n"
     ]
    },
    {
     "name": "stdout",
     "output_type": "stream",
     "text": [
      "enter value 3\n"
     ]
    },
    {
     "name": "stdin",
     "output_type": "stream",
     "text": [
      " 3\n"
     ]
    },
    {
     "name": "stdout",
     "output_type": "stream",
     "text": [
      "enter value 4\n"
     ]
    },
    {
     "name": "stdin",
     "output_type": "stream",
     "text": [
      " 4\n"
     ]
    },
    {
     "name": "stdout",
     "output_type": "stream",
     "text": [
      "10\n"
     ]
    }
   ],
   "source": [
    "#Function with *args\n",
    "#Problem: Write a function that takes variable number of arguments and returns their sum.\n",
    "num = int(input(\"how many numbers do you want in your list: \"))\n",
    "list1 = list()\n",
    "for i in range(num):\n",
    "    print(f\"enter value {i+1}\")\n",
    "    num = int(input())\n",
    "    list1.append(num)\n",
    "def argSum(args):\n",
    "    sum1 = 0\n",
    "    for i in args:\n",
    "        sum1+=i\n",
    "    print(sum1)\n",
    "argSum(list1)"
   ]
  },
  {
   "cell_type": "code",
   "execution_count": 42,
   "id": "9faff45c-02c5-4b0b-a78d-b024ce0f5e36",
   "metadata": {},
   "outputs": [
    {
     "name": "stdout",
     "output_type": "stream",
     "text": [
      "first_name : manish\n",
      "last_name : kumar\n"
     ]
    }
   ],
   "source": [
    "#Function with **kwargs\n",
    "#Problem: Create a function that accepts any number of keyword arguments and prints them in the format key: value.\n",
    "def kargs(**args):\n",
    "    for i,j in args.items():\n",
    "        print(f\"{i} : {j}\")\n",
    "kargs(first_name = \"manish\", last_name = \"kumar\")"
   ]
  },
  {
   "cell_type": "code",
   "execution_count": null,
   "id": "1946a715-3bbb-41ea-a6c6-73a5f7a36a60",
   "metadata": {},
   "outputs": [],
   "source": []
  },
  {
   "cell_type": "code",
   "execution_count": null,
   "id": "379de430-951f-4e4e-aad0-fb795adc1fc8",
   "metadata": {},
   "outputs": [],
   "source": []
  }
 ],
 "metadata": {
  "kernelspec": {
   "display_name": "Python [conda env:base] *",
   "language": "python",
   "name": "conda-base-py"
  },
  "language_info": {
   "codemirror_mode": {
    "name": "ipython",
    "version": 3
   },
   "file_extension": ".py",
   "mimetype": "text/x-python",
   "name": "python",
   "nbconvert_exporter": "python",
   "pygments_lexer": "ipython3",
   "version": "3.12.7"
  }
 },
 "nbformat": 4,
 "nbformat_minor": 5
}
