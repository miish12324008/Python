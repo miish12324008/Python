{
 "cells": [
  {
   "cell_type": "markdown",
   "id": "a78475d5-5dab-4fdd-980c-e0f6e9e1a422",
   "metadata": {
    "panel-layout": {
     "height": 60.59375,
     "visible": true,
     "width": 100
    }
   },
   "source": [
    "# NUMPY"
   ]
  },
  {
   "cell_type": "raw",
   "id": "49cf0166-32e2-4056-8463-8922b98c3276",
   "metadata": {},
   "source": [
    "numpy is used for working with arrays. it is a short form of numerical python\n",
    "Use:\n",
    "It is 50X faster than python list because it is stored at one contiguous memory\n",
    "object of numpy array is known as ndarray"
   ]
  },
  {
   "cell_type": "code",
   "execution_count": 7,
   "id": "83f87687-2dee-44a9-8736-6750dfc3bad2",
   "metadata": {
    "panel-layout": {
     "height": 0,
     "visible": true,
     "width": 100
    }
   },
   "outputs": [
    {
     "name": "stdout",
     "output_type": "stream",
     "text": [
      "[1 2 3 4 5]\n",
      "<class 'numpy.ndarray'>\n",
      "[1, 2, 3, 4, 5]\n",
      "<class 'list'>\n"
     ]
    }
   ],
   "source": [
    "#creating a numpy array\n",
    "import numpy as np\n",
    "arr = np.array([1,2,3,4,5])\n",
    "arr1 = [1,2,3,4,5]\n",
    "print(arr)\n",
    "print(type(arr))\n",
    "print(arr1)\n",
    "print(type(arr1))"
   ]
  },
  {
   "cell_type": "code",
   "execution_count": 11,
   "id": "a34b7023-96b9-4b35-98e5-7895a9a67953",
   "metadata": {
    "panel-layout": {
     "height": 0,
     "visible": true,
     "width": 100
    }
   },
   "outputs": [
    {
     "name": "stdout",
     "output_type": "stream",
     "text": [
      "<class 'numpy.ndarray'>\n"
     ]
    }
   ],
   "source": [
    "arr = np.array((1,2,3,4,5))\n",
    "print(type(arr))"
   ]
  },
  {
   "cell_type": "markdown",
   "id": "cc67dded-aa28-4ae2-bcd2-4d5e415777be",
   "metadata": {
    "panel-layout": {
     "height": 60.59375,
     "visible": true,
     "width": 100
    }
   },
   "source": [
    "# 0D Array (Zero D)"
   ]
  },
  {
   "cell_type": "raw",
   "id": "a597451b-c13b-4d24-9a67-8ce12d7300cc",
   "metadata": {},
   "source": [
    "these are the elements in an array. Each value in an array is an 0-D Array\n",
    "it means that an array has a single value"
   ]
  },
  {
   "cell_type": "code",
   "execution_count": 17,
   "id": "40db819f-5e6d-417a-be07-69b7d996d1c5",
   "metadata": {
    "panel-layout": {
     "height": 0,
     "visible": true,
     "width": 100
    }
   },
   "outputs": [
    {
     "name": "stdout",
     "output_type": "stream",
     "text": [
      "56\n",
      "<class 'numpy.ndarray'>\n"
     ]
    }
   ],
   "source": [
    "#Exmple of 0D Array\n",
    "import numpy as np\n",
    "arr = np.array(56)\n",
    "print(arr)\n",
    "print(type(arr))"
   ]
  },
  {
   "cell_type": "markdown",
   "id": "43c4a693-85bf-45c1-a063-d05e597846fb",
   "metadata": {
    "panel-layout": {
     "height": 60.59375,
     "visible": true,
     "width": 100
    }
   },
   "source": [
    "# 1-D Array"
   ]
  },
  {
   "cell_type": "raw",
   "id": "958397f3-92e1-4408-87e3-258cddf9115b",
   "metadata": {},
   "source": [
    "an array which has 0D array as its element\n",
    "a collection of elements in a single row"
   ]
  },
  {
   "cell_type": "code",
   "execution_count": 31,
   "id": "5800bb7f-e138-4ba7-a1be-f18b1b77694d",
   "metadata": {
    "panel-layout": {
     "height": 0,
     "visible": true,
     "width": 100
    }
   },
   "outputs": [
    {
     "name": "stdout",
     "output_type": "stream",
     "text": [
      "[1 2 3 4 5]\n",
      "<class 'numpy.ndarray'>\n"
     ]
    }
   ],
   "source": [
    "#Exampe of 1D array\n",
    "arr = np.array([1,2,3,4,5])\n",
    "print(arr)\n",
    "print(type(arr))"
   ]
  },
  {
   "cell_type": "markdown",
   "id": "ff375854-1e3d-402e-8c31-976ae1613e57",
   "metadata": {
    "panel-layout": {
     "height": 60.59375,
     "visible": true,
     "width": 100
    }
   },
   "source": [
    "# 2D Array"
   ]
  },
  {
   "cell_type": "raw",
   "id": "2f7f12b5-cc39-4c54-ba4e-92cd9e96d81a",
   "metadata": {},
   "source": [
    "An array that has 1-D array as its element are called 2-D array\n",
    "they are ofter used to make matrix"
   ]
  },
  {
   "cell_type": "code",
   "execution_count": 34,
   "id": "b14021b2-26c3-4f24-a32d-c1f9f58c2a81",
   "metadata": {
    "panel-layout": {
     "height": 0,
     "visible": true,
     "width": 100
    }
   },
   "outputs": [
    {
     "name": "stdout",
     "output_type": "stream",
     "text": [
      "[[1 2 3]\n",
      " [4 5 6]]\n"
     ]
    }
   ],
   "source": [
    "#Example of 2D Array\n",
    "arr = np.array([[1,2,3],[4,5,6]])\n",
    "print(arr)"
   ]
  },
  {
   "cell_type": "markdown",
   "id": "4cd3fdca-d476-456b-bd5f-ec0b31aae106",
   "metadata": {
    "panel-layout": {
     "height": 60.59375,
     "visible": true,
     "width": 100
    }
   },
   "source": [
    "# 3-D Array"
   ]
  },
  {
   "cell_type": "raw",
   "id": "6475f03f-bcf0-4de0-801b-05a2a42e5457",
   "metadata": {},
   "source": [
    "An array that take 2-D array as its element ar called 3-D array\n",
    "they are ofter used to represent 3-D order tensor"
   ]
  },
  {
   "cell_type": "code",
   "execution_count": 43,
   "id": "dd0d3e84-7af5-4db8-8bb4-935f408166a1",
   "metadata": {
    "panel-layout": {
     "height": 0,
     "visible": true,
     "width": 100
    }
   },
   "outputs": [
    {
     "name": "stdout",
     "output_type": "stream",
     "text": [
      "[[[ 1  2  3]\n",
      "  [ 4  5  6]]\n",
      "\n",
      " [[ 7  8  9]\n",
      "  [10 11 12]]]\n"
     ]
    }
   ],
   "source": [
    "#Example of 3-D array\n",
    "arr = np.array([[[1,2,3],[4,5,6]],[[7,8,9],[10,11,12]]])\n",
    "print(arr)"
   ]
  },
  {
   "cell_type": "markdown",
   "id": "57598738-5368-455d-ba64-57ea77d73d92",
   "metadata": {
    "panel-layout": {
     "height": 60.59375,
     "visible": true,
     "width": 100
    }
   },
   "source": [
    "# check number of dimension using ndim"
   ]
  },
  {
   "cell_type": "code",
   "execution_count": 48,
   "id": "f8c88a58-27b5-4b93-9aeb-8859f2bcf15a",
   "metadata": {
    "panel-layout": {
     "height": 0,
     "visible": true,
     "width": 100
    }
   },
   "outputs": [
    {
     "name": "stdout",
     "output_type": "stream",
     "text": [
      "3\n"
     ]
    }
   ],
   "source": [
    "dimension_of_array = arr.ndim\n",
    "print(dimension_of_array)"
   ]
  },
  {
   "cell_type": "markdown",
   "id": "7174858d-d3ee-4232-a556-8cad8fbd949d",
   "metadata": {
    "panel-layout": {
     "height": 60.59375,
     "visible": true,
     "width": 100
    }
   },
   "source": [
    "# higher number of array"
   ]
  },
  {
   "cell_type": "raw",
   "id": "e27145a6-68ec-483c-9492-d7772760a89b",
   "metadata": {},
   "source": [
    "we can have n dimension of array\n",
    "we can also define number of dimension using ndmin argument"
   ]
  },
  {
   "cell_type": "markdown",
   "id": "d9a0b6c6-17c6-41fc-8ce5-7eb9dcd03122",
   "metadata": {
    "panel-layout": {
     "height": 68.28125,
     "visible": true,
     "width": 100
    }
   },
   "source": [
    "arr = np.array([1,2,3,4,5,6],ndmin = 5)\n",
    "print(arr)"
   ]
  },
  {
   "cell_type": "markdown",
   "id": "2187f40c-670a-4a41-9e4b-30f5b2b33c12",
   "metadata": {
    "panel-layout": {
     "height": 60.59375,
     "visible": true,
     "width": 100
    }
   },
   "source": [
    "# Numpy Array Indexing"
   ]
  },
  {
   "cell_type": "markdown",
   "id": "f2010d9b-231a-4526-8bd5-e3cc35258957",
   "metadata": {
    "panel-layout": {
     "height": 60.59375,
     "visible": true,
     "width": 100
    }
   },
   "source": [
    "# accessing elements of 1D array"
   ]
  },
  {
   "cell_type": "raw",
   "id": "a7a2ac9f-8fd6-496e-9a4f-0b81526c07b8",
   "metadata": {},
   "source": [
    "we can access array element by referring index element\n",
    "index of numpy array is starts from 0"
   ]
  },
  {
   "cell_type": "code",
   "execution_count": 5,
   "id": "8bc60a69-2c61-4347-b9b5-895151244e4a",
   "metadata": {},
   "outputs": [],
   "source": [
    "import numpy as np\n",
    "arr = np.array([1,2,3,4,5,6])"
   ]
  },
  {
   "cell_type": "code",
   "execution_count": 9,
   "id": "2e564801-f70b-44f6-8c13-1a6eb5582aaa",
   "metadata": {
    "panel-layout": {
     "height": 0,
     "visible": true,
     "width": 100
    }
   },
   "outputs": [
    {
     "name": "stdout",
     "output_type": "stream",
     "text": [
      "1\n",
      "2\n"
     ]
    }
   ],
   "source": [
    "print(arr[0])\n",
    "print(arr[1])"
   ]
  },
  {
   "cell_type": "code",
   "execution_count": 11,
   "id": "237fe568-962e-4141-b54e-06bf8269f997",
   "metadata": {
    "panel-layout": {
     "height": 27.140625,
     "visible": true,
     "width": 100
    }
   },
   "outputs": [
    {
     "data": {
      "text/plain": [
       "7"
      ]
     },
     "execution_count": 11,
     "metadata": {},
     "output_type": "execute_result"
    }
   ],
   "source": [
    "#adding elements of array\n",
    "arr[2]+arr[3] #3+4"
   ]
  },
  {
   "cell_type": "markdown",
   "id": "a5af33ab-afe5-45fb-bf75-f49212014e75",
   "metadata": {
    "panel-layout": {
     "height": 60.59375,
     "visible": true,
     "width": 100
    }
   },
   "source": [
    "# Accessing elements of 2D array"
   ]
  },
  {
   "cell_type": "code",
   "execution_count": 22,
   "id": "bc8cf14a-b8bc-4ac3-afe7-5e38455731e3",
   "metadata": {},
   "outputs": [],
   "source": [
    "Arr2d = np.array([[1,2,3,4,5],[6,7,8,9,10]])"
   ]
  },
  {
   "cell_type": "code",
   "execution_count": 24,
   "id": "19a26d39-264e-4a9b-bfc9-61a74a69801f",
   "metadata": {
    "panel-layout": {
     "height": 0,
     "visible": true,
     "width": 100
    }
   },
   "outputs": [
    {
     "name": "stdout",
     "output_type": "stream",
     "text": [
      "[[ 1  2  3  4  5]\n",
      " [ 6  7  8  9 10]]\n"
     ]
    }
   ],
   "source": [
    "print(Arr2d)"
   ]
  },
  {
   "cell_type": "code",
   "execution_count": 26,
   "id": "22f786cf-e028-44c1-be36-d45f2e760e51",
   "metadata": {
    "panel-layout": {
     "height": 27.140625,
     "visible": true,
     "width": 100
    }
   },
   "outputs": [
    {
     "data": {
      "text/plain": [
       "1"
      ]
     },
     "execution_count": 26,
     "metadata": {},
     "output_type": "execute_result"
    }
   ],
   "source": [
    "#first element of 2D Array\n",
    "Arr2d[0][0]"
   ]
  },
  {
   "cell_type": "code",
   "execution_count": 32,
   "id": "0db15b05-79dd-460e-b89c-35633d443a8a",
   "metadata": {
    "panel-layout": {
     "height": 51.140625,
     "visible": true,
     "width": 100
    }
   },
   "outputs": [
    {
     "data": {
      "text/plain": [
       "'second value of first row is 2'"
      ]
     },
     "execution_count": 32,
     "metadata": {},
     "output_type": "execute_result"
    }
   ],
   "source": [
    "#second value of the first row\n",
    "f\"second value of first row is {Arr2d[0][1]}\""
   ]
  },
  {
   "cell_type": "code",
   "execution_count": 36,
   "id": "88f3d83b-0a7b-47fc-867b-c03461405286",
   "metadata": {
    "panel-layout": {
     "height": 51.140625,
     "visible": true,
     "width": 100
    }
   },
   "outputs": [
    {
     "data": {
      "text/plain": [
       "'fifth element of second row is 10'"
      ]
     },
     "execution_count": 36,
     "metadata": {},
     "output_type": "execute_result"
    }
   ],
   "source": [
    "#accessing the fifth element of row2\n",
    "f\"fifth element of second row is {Arr2d[1,4]}\""
   ]
  },
  {
   "cell_type": "markdown",
   "id": "bfab3303-32b6-44ef-861f-5aa5e7d96d2a",
   "metadata": {
    "panel-layout": {
     "height": 60.59375,
     "visible": true,
     "width": 100
    }
   },
   "source": [
    "# Assessing elements of 3D array"
   ]
  },
  {
   "cell_type": "code",
   "execution_count": 39,
   "id": "c10039de-a3e9-41f3-9e93-1e92e15e086e",
   "metadata": {},
   "outputs": [],
   "source": [
    "Arr3d = np.array([[[1,2,3],[4,5,6]],[[7,8,9],[10,11,12]]])"
   ]
  },
  {
   "cell_type": "code",
   "execution_count": 41,
   "id": "e805c549-e9bf-4a4b-90e6-150b1215cd40",
   "metadata": {
    "panel-layout": {
     "height": 0,
     "visible": true,
     "width": 100
    }
   },
   "outputs": [
    {
     "name": "stdout",
     "output_type": "stream",
     "text": [
      "[[[ 1  2  3]\n",
      "  [ 4  5  6]]\n",
      "\n",
      " [[ 7  8  9]\n",
      "  [10 11 12]]]\n"
     ]
    }
   ],
   "source": [
    "print(Arr3d)"
   ]
  },
  {
   "cell_type": "code",
   "execution_count": 57,
   "id": "aa7c3656-5ffe-4f3b-9c66-d9ad2d9b1cc7",
   "metadata": {
    "panel-layout": {
     "height": 0,
     "visible": true,
     "width": 100
    }
   },
   "outputs": [
    {
     "name": "stdout",
     "output_type": "stream",
     "text": [
      "12\n"
     ]
    }
   ],
   "source": [
    "#access the third element of second array of first array\n",
    "print(Arr3d[1,1,2])"
   ]
  },
  {
   "cell_type": "markdown",
   "id": "7a85456d-7885-4126-9872-d5ae8798f3d7",
   "metadata": {
    "panel-layout": {
     "height": 60.59375,
     "visible": true,
     "width": 100
    }
   },
   "source": [
    "# Negative Indexing"
   ]
  },
  {
   "cell_type": "code",
   "execution_count": 84,
   "id": "10ab9a61-ff2c-43c0-a3b2-c08f958c2f81",
   "metadata": {
    "panel-layout": {
     "height": 44.28125,
     "visible": true,
     "width": 100
    }
   },
   "outputs": [
    {
     "data": {
      "text/plain": [
       "array([[ 1,  2,  3,  4,  5],\n",
       "       [ 6,  7,  8,  9, 10]])"
      ]
     },
     "execution_count": 84,
     "metadata": {},
     "output_type": "execute_result"
    }
   ],
   "source": [
    "Arr2d"
   ]
  },
  {
   "cell_type": "code",
   "execution_count": 79,
   "id": "b4249595-aca9-407d-8f33-c00cdaa92304",
   "metadata": {
    "panel-layout": {
     "height": 27.140625,
     "visible": true,
     "width": 100
    }
   },
   "outputs": [
    {
     "data": {
      "text/plain": [
       "1"
      ]
     },
     "execution_count": 79,
     "metadata": {},
     "output_type": "execute_result"
    }
   ],
   "source": [
    "Arr2d[-2,-5]"
   ]
  },
  {
   "cell_type": "code",
   "execution_count": 82,
   "id": "00ee4599-1f38-4d44-8800-9cb1b3f96ee8",
   "metadata": {
    "panel-layout": {
     "height": 27.140625,
     "visible": true,
     "width": 100
    }
   },
   "outputs": [
    {
     "data": {
      "text/plain": [
       "10"
      ]
     },
     "execution_count": 82,
     "metadata": {},
     "output_type": "execute_result"
    }
   ],
   "source": [
    "Arr2d[-1,-1]"
   ]
  },
  {
   "cell_type": "code",
   "execution_count": 86,
   "id": "0c2cc75e-765a-47cf-812f-7b10ac4a3727",
   "metadata": {
    "panel-layout": {
     "height": 27.140625,
     "visible": true,
     "width": 100
    }
   },
   "outputs": [
    {
     "data": {
      "text/plain": [
       "5"
      ]
     },
     "execution_count": 86,
     "metadata": {},
     "output_type": "execute_result"
    }
   ],
   "source": [
    "Arr2d[-2,-1]"
   ]
  },
  {
   "cell_type": "markdown",
   "id": "7d176dc1-5b6f-4c31-918e-dae065e3238c",
   "metadata": {
    "panel-layout": {
     "height": 60.59375,
     "visible": true,
     "width": 100
    }
   },
   "source": [
    "# Array Slicing"
   ]
  },
  {
   "cell_type": "code",
   "execution_count": 99,
   "id": "62e70077-1299-4066-916b-bf24ffe9ed4e",
   "metadata": {},
   "outputs": [],
   "source": [
    "Arr = np.array(range(1,8))"
   ]
  },
  {
   "cell_type": "code",
   "execution_count": 101,
   "id": "9dff69c2-9783-462d-8849-daea0e7649d9",
   "metadata": {
    "panel-layout": {
     "height": 27.140625,
     "visible": true,
     "width": 100
    }
   },
   "outputs": [
    {
     "data": {
      "text/plain": [
       "array([1, 2, 3, 4, 5, 6, 7])"
      ]
     },
     "execution_count": 101,
     "metadata": {},
     "output_type": "execute_result"
    }
   ],
   "source": [
    "Arr"
   ]
  },
  {
   "cell_type": "code",
   "execution_count": 105,
   "id": "33857dc7-2917-4c34-a828-9d21e63fd295",
   "metadata": {
    "panel-layout": {
     "height": 27.140625,
     "visible": true,
     "width": 100
    }
   },
   "outputs": [
    {
     "data": {
      "text/plain": [
       "array([2, 3, 4, 5])"
      ]
     },
     "execution_count": 105,
     "metadata": {},
     "output_type": "execute_result"
    }
   ],
   "source": [
    "#slice elements from index 1 to 5\n",
    "Arr[1:5]"
   ]
  },
  {
   "cell_type": "code",
   "execution_count": 107,
   "id": "54c9382e-1a53-412c-a72f-3aa57d1742d2",
   "metadata": {
    "panel-layout": {
     "height": 27.140625,
     "visible": true,
     "width": 100
    }
   },
   "outputs": [
    {
     "data": {
      "text/plain": [
       "array([5, 6, 7])"
      ]
     },
     "execution_count": 107,
     "metadata": {},
     "output_type": "execute_result"
    }
   ],
   "source": [
    "#scile element from index 4 to the end of the array\n",
    "Arr[4:]"
   ]
  },
  {
   "cell_type": "code",
   "execution_count": 109,
   "id": "f3ca4732-e05f-4f9b-bdde-549754ad38f7",
   "metadata": {
    "panel-layout": {
     "height": 27.140625,
     "visible": true,
     "width": 100
    }
   },
   "outputs": [
    {
     "data": {
      "text/plain": [
       "array([1, 2, 3, 4])"
      ]
     },
     "execution_count": 109,
     "metadata": {},
     "output_type": "execute_result"
    }
   ],
   "source": [
    "#slice elements from the begning to index 4(not included)\n",
    "Arr[:4]"
   ]
  },
  {
   "cell_type": "code",
   "execution_count": 113,
   "id": "62f28bcc-39fa-4f9b-8296-b10556c467ff",
   "metadata": {
    "panel-layout": {
     "height": 27.140625,
     "visible": true,
     "width": 100
    }
   },
   "outputs": [
    {
     "data": {
      "text/plain": [
       "array([5, 6])"
      ]
     },
     "execution_count": 113,
     "metadata": {},
     "output_type": "execute_result"
    }
   ],
   "source": [
    "#use negative indexing, slice from index 3 to index 1 from the end\n",
    "Arr[-3:-1:1]"
   ]
  },
  {
   "cell_type": "code",
   "execution_count": 117,
   "id": "8c8021c5-c225-4ee1-b8a0-a522150a4080",
   "metadata": {
    "panel-layout": {
     "height": 27.140625,
     "visible": true,
     "width": 100
    }
   },
   "outputs": [
    {
     "data": {
      "text/plain": [
       "array([2, 4])"
      ]
     },
     "execution_count": 117,
     "metadata": {},
     "output_type": "execute_result"
    }
   ],
   "source": [
    "#return every other element from index 1 to 5\n",
    "Arr[1:5:2]"
   ]
  },
  {
   "cell_type": "code",
   "execution_count": 119,
   "id": "6009f756-23ab-4fc3-9486-e9335345f854",
   "metadata": {
    "panel-layout": {
     "height": 27.140625,
     "visible": true,
     "width": 100
    }
   },
   "outputs": [
    {
     "data": {
      "text/plain": [
       "array([1, 3, 5, 7])"
      ]
     },
     "execution_count": 119,
     "metadata": {},
     "output_type": "execute_result"
    }
   ],
   "source": [
    "#return every 2nd element from the entire array\n",
    "Arr[::2]"
   ]
  },
  {
   "cell_type": "markdown",
   "id": "fdd3b1c1-3b49-453f-8739-70de164a63f6",
   "metadata": {
    "panel-layout": {
     "height": 60.59375,
     "visible": true,
     "width": 100
    }
   },
   "source": [
    "# 2D Slicing"
   ]
  },
  {
   "cell_type": "code",
   "execution_count": 122,
   "id": "5318089d-f306-400d-abff-d388cc82d4ec",
   "metadata": {
    "panel-layout": {
     "height": 44.28125,
     "visible": true,
     "width": 100
    }
   },
   "outputs": [
    {
     "data": {
      "text/plain": [
       "array([[ 1,  2,  3,  4,  5],\n",
       "       [ 6,  7,  8,  9, 10]])"
      ]
     },
     "execution_count": 122,
     "metadata": {},
     "output_type": "execute_result"
    }
   ],
   "source": [
    "#from the seconf array slice element from index 1 to 4\n",
    "Arr2d"
   ]
  },
  {
   "cell_type": "code",
   "execution_count": 124,
   "id": "c1b98b94-ae28-47d9-aedb-02bf08e27081",
   "metadata": {
    "panel-layout": {
     "height": 27.140625,
     "visible": true,
     "width": 100
    }
   },
   "outputs": [
    {
     "data": {
      "text/plain": [
       "array([7, 8, 9])"
      ]
     },
     "execution_count": 124,
     "metadata": {},
     "output_type": "execute_result"
    }
   ],
   "source": [
    "Arr2d[1,1:4]"
   ]
  },
  {
   "cell_type": "code",
   "execution_count": 130,
   "id": "3dde642d-6d0d-42ab-acec-9adf1b44f79b",
   "metadata": {
    "panel-layout": {
     "height": 0,
     "visible": true,
     "width": 100
    }
   },
   "outputs": [
    {
     "name": "stdout",
     "output_type": "stream",
     "text": [
      "[3 8]\n",
      "[3 8]\n"
     ]
    }
   ],
   "source": [
    "# from both array return index 2\n",
    "print(Arr2d[:,2])\n",
    "#or\n",
    "print(Arr2d[0:2,2])"
   ]
  },
  {
   "cell_type": "code",
   "execution_count": 140,
   "id": "25f464a8-876e-4f37-9651-0044000d270b",
   "metadata": {
    "panel-layout": {
     "height": 0,
     "visible": true,
     "width": 100
    }
   },
   "outputs": [
    {
     "name": "stdout",
     "output_type": "stream",
     "text": [
      "[[2 3 4]\n",
      " [7 8 9]]\n",
      "\n",
      "Another method\n",
      "\n",
      "[[2 3 4]\n",
      " [7 8 9]]\n"
     ]
    }
   ],
   "source": [
    "#fron both array, slice index 1 to 4, this will return 2D array\n",
    "print(Arr2d[:,1:4])\n",
    "#or\n",
    "print()\n",
    "print(\"Another method\")\n",
    "print()\n",
    "print(Arr2d[0:2,1:4])"
   ]
  },
  {
   "cell_type": "markdown",
   "id": "7c3be14f-0bb4-42f9-bb9d-952ccf85b6ac",
   "metadata": {
    "panel-layout": {
     "height": 60.59375,
     "visible": true,
     "width": 100
    }
   },
   "source": [
    "# Numpy DataTypes"
   ]
  },
  {
   "cell_type": "raw",
   "id": "ea7992ba-6903-4739-b4b0-420573d63247",
   "metadata": {},
   "source": [
    "i-integer\n",
    "b-boolean\n",
    "u-unsigned integer\n",
    "f-float\n",
    "c-complex float\n",
    "m-timedelta\n",
    "M-datetime\n",
    "o-object\n",
    "S-string\n",
    "U-unicode string\n",
    "V-fixe chunk of memory"
   ]
  },
  {
   "cell_type": "code",
   "execution_count": 152,
   "id": "48b8ce40-d1db-41d3-b5d0-e118479446f2",
   "metadata": {
    "panel-layout": {
     "height": 0,
     "visible": true,
     "width": 100
    }
   },
   "outputs": [
    {
     "name": "stdout",
     "output_type": "stream",
     "text": [
      "int64\n"
     ]
    }
   ],
   "source": [
    "Arr = np.array([1,2,3,4])\n",
    "print(Arr.dtype)"
   ]
  },
  {
   "cell_type": "code",
   "execution_count": 156,
   "id": "c2598cc5-f9f6-4c39-84ea-12cd8b111e8a",
   "metadata": {
    "panel-layout": {
     "height": 0,
     "visible": true,
     "width": 100
    }
   },
   "outputs": [
    {
     "name": "stdout",
     "output_type": "stream",
     "text": [
      "<U21\n"
     ]
    }
   ],
   "source": [
    "Arr = np.array([\"Manish\",64])\n",
    "print(Arr.dtype)"
   ]
  },
  {
   "cell_type": "code",
   "execution_count": 170,
   "id": "f374e68a-bd97-4582-91a7-6fd1e54bf277",
   "metadata": {
    "panel-layout": {
     "height": 0,
     "visible": true,
     "width": 100
    }
   },
   "outputs": [
    {
     "name": "stdout",
     "output_type": "stream",
     "text": [
      "['Manish' 'Bhavnish']\n",
      "<U8\n"
     ]
    }
   ],
   "source": [
    "Arr = np.array([\"Manish\",\"Bhavnish\"])\n",
    "print(Arr)\n",
    "print(Arr.dtype)"
   ]
  },
  {
   "cell_type": "markdown",
   "id": "1e04daa3-e4eb-4a20-8235-c818fe9d3a9a",
   "metadata": {
    "panel-layout": {
     "height": 60.59375,
     "visible": true,
     "width": 100
    }
   },
   "source": [
    "# creting an array with defined data type"
   ]
  },
  {
   "cell_type": "code",
   "execution_count": 176,
   "id": "6f76412b-ff7b-4538-b3e3-b2e9a0618562",
   "metadata": {
    "panel-layout": {
     "height": 0,
     "visible": true,
     "width": 100
    }
   },
   "outputs": [
    {
     "name": "stdout",
     "output_type": "stream",
     "text": [
      "[b'1' b'2' b'3' b'4' b'5']\n",
      "|S1\n"
     ]
    }
   ],
   "source": [
    "Arr = np.array([1,2,3,4,5],dtype=\"S\")\n",
    "print(Arr)\n",
    "print(Arr.dtype)"
   ]
  },
  {
   "cell_type": "code",
   "execution_count": 181,
   "id": "37a45aa0-27ae-4807-b913-6452f3cad50e",
   "metadata": {},
   "outputs": [],
   "source": [
    "#note for i,u,f,S and U we can define size as well"
   ]
  },
  {
   "cell_type": "code",
   "execution_count": 224,
   "id": "7672bc68-25f4-4e8d-8a70-bb36d6902a21",
   "metadata": {
    "panel-layout": {
     "height": 0,
     "visible": true,
     "width": 100
    }
   },
   "outputs": [
    {
     "name": "stdout",
     "output_type": "stream",
     "text": [
      "without data type\n",
      "[1 2 3 4 5]\n",
      "int64\n",
      "\n",
      "with data type\n",
      "[1 2 3 4 5]\n",
      "int64\n"
     ]
    }
   ],
   "source": [
    "arr = np.array([1,2,3,4,5])\n",
    "print(\"without data type\")\n",
    "print(arr)\n",
    "print(arr.dtype)\n",
    "print()\n",
    "print(\"with data type\")\n",
    "arr = np.array([1,2,3,4,5],dtype = \"int64\") #dtype = i for int32 \n",
    "print(arr)\n",
    "print(arr.dtype)"
   ]
  },
  {
   "cell_type": "markdown",
   "id": "79af1566-bec5-4fc4-93db-6027069b8fc1",
   "metadata": {
    "panel-layout": {
     "height": 60.59375,
     "visible": true,
     "width": 100
    }
   },
   "source": [
    "# converting data types of existiing array"
   ]
  },
  {
   "cell_type": "code",
   "execution_count": 237,
   "id": "ebf82077-e725-4948-82bf-c3da9e7e79b0",
   "metadata": {
    "panel-layout": {
     "height": 0,
     "visible": true,
     "width": 100
    }
   },
   "outputs": [
    {
     "name": "stdout",
     "output_type": "stream",
     "text": [
      "before changing data type\n",
      "int64\n",
      "\n",
      "after changing data type\n",
      "|S21\n"
     ]
    }
   ],
   "source": [
    "Arr = np.array([1,2,3,4,5,6,7,8])\n",
    "print(\"before changing data type\")\n",
    "print(Arr.dtype)\n",
    "print()\n",
    "Arr = Arr.astype(\"S\")\n",
    "print(\"after changing data type\")\n",
    "print(Arr.dtype)"
   ]
  },
  {
   "cell_type": "markdown",
   "id": "7c42396a-d985-41d0-bd46-b33e4e015dcd",
   "metadata": {},
   "source": [
    "# Numpy Array copy vs view"
   ]
  },
  {
   "cell_type": "raw",
   "id": "cb7dfa79-2c2a-4586-b9ef-81c62a8f3a7a",
   "metadata": {},
   "source": [
    "the main diff bw copy and view is that the copy is a new array but the view is the refferance of the original data\n",
    "syntax\n",
    "view = arr1 = arr2 or arr2 = arr1.view()\n",
    "copy = arr2 = arr1.copy()"
   ]
  },
  {
   "cell_type": "code",
   "execution_count": 14,
   "id": "57dc47ec-4f95-4be6-800b-183afd542f14",
   "metadata": {},
   "outputs": [
    {
     "name": "stdout",
     "output_type": "stream",
     "text": [
      "Before making changes\n",
      "[1 2 3 4 5 6]\n",
      "[1 2 3 4 5 6]\n",
      "\n",
      "after making changes\n",
      "\n",
      "[1 2 3 4 5 6]\n",
      "[10000     2     3     4     5     6]\n"
     ]
    }
   ],
   "source": [
    "#Copy\n",
    "#make a copy of original array and make changes in second array and print both array\n",
    "import numpy as np\n",
    "arr1 = np.array([1,2,3,4,5,6])\n",
    "arr2 = arr1.copy()\n",
    "print(\"Before making changes\")\n",
    "print(arr1)\n",
    "print(arr2)\n",
    "print()\n",
    "print(\"after making changes\")\n",
    "print()\n",
    "arr2[0] = 10000\n",
    "print(arr1)\n",
    "print(arr2)"
   ]
  },
  {
   "cell_type": "code",
   "execution_count": 16,
   "id": "5f11fb9b-a24d-43a0-a204-5bddc880b9e6",
   "metadata": {},
   "outputs": [
    {
     "name": "stdout",
     "output_type": "stream",
     "text": [
      "before making changes\n",
      "[1 2 3 4]\n",
      "[1 2 3 4]\n",
      "\n",
      "after making changes\n",
      "\n",
      "[10000     2     3     4]\n",
      "[10000     2     3     4]\n"
     ]
    }
   ],
   "source": [
    "#View\n",
    "arr1 = np.array([1,2,3,4])\n",
    "arr2 = arr1.view()\n",
    "print(\"before making changes\")\n",
    "print(arr1)\n",
    "print(arr2)\n",
    "\n",
    "print()\n",
    "print(\"after making changes\")\n",
    "print()\n",
    "arr2[0] = 10000\n",
    "print(arr1)\n",
    "print(arr2)"
   ]
  },
  {
   "cell_type": "code",
   "execution_count": 24,
   "id": "54d6ae86-e10d-4013-8e3c-f70e3adf06aa",
   "metadata": {},
   "outputs": [
    {
     "name": "stdout",
     "output_type": "stream",
     "text": [
      "None\n",
      "[1 2 3 4 5 6]\n",
      "None\n"
     ]
    }
   ],
   "source": [
    "# check weather the array is copied or viewed // wether array has its own data or not\n",
    "arr = np.array([1,2,3,4,5,6])\n",
    "arr_copy = arr.copy()\n",
    "arr_view = arr.view()\n",
    "#print(arr_copy)\n",
    "print(arr_copy.base) #return none because it has its own data\n",
    "#print(arr_view)\n",
    "print(arr_view.base) #return whole array\n",
    "print(arr.base)"
   ]
  },
  {
   "cell_type": "markdown",
   "id": "670d7f73-e9b5-4061-b42b-3cd554172679",
   "metadata": {},
   "source": [
    "# numpy array shape"
   ]
  },
  {
   "cell_type": "raw",
   "id": "0c2a4ef0-3499-4c11-a7f9-df274794a8cc",
   "metadata": {},
   "source": [
    "return the number elements in each dimension"
   ]
  },
  {
   "cell_type": "code",
   "execution_count": 32,
   "id": "1a58ee03-798d-47e1-b721-8ff27434d550",
   "metadata": {},
   "outputs": [
    {
     "name": "stdout",
     "output_type": "stream",
     "text": [
      "[[1 2 3 4]\n",
      " [5 6 7 8]]\n",
      "(2, 4)\n"
     ]
    }
   ],
   "source": [
    "arr = np.array([[1,2,3,4],[5,6,7,8]])\n",
    "print(arr)\n",
    "print(arr.shape)"
   ]
  },
  {
   "cell_type": "code",
   "execution_count": 40,
   "id": "5a06db0f-098a-4f62-a161-3a41fbb279d7",
   "metadata": {},
   "outputs": [
    {
     "name": "stdout",
     "output_type": "stream",
     "text": [
      "[[[[[1 2 3 4]]]]]\n",
      "shape of array is (1, 1, 1, 1, 4)\n"
     ]
    }
   ],
   "source": [
    "arr = np.array([1,2,3,4],ndmin = 5)\n",
    "print(arr)\n",
    "print(f\"shape of array is {arr.shape}\")"
   ]
  },
  {
   "cell_type": "raw",
   "id": "24bbd16c-9bbf-45c6-91ea-bd999dcf6b97",
   "metadata": {},
   "source": [
    "at index 4 we have value 4 (1,1,1,1,4) so we can say that 5th dimension have 4 values"
   ]
  },
  {
   "cell_type": "markdown",
   "id": "fa8601ad-461e-48fe-ac3a-ea1b46345459",
   "metadata": {},
   "source": [
    "# Reshaping in array"
   ]
  },
  {
   "cell_type": "code",
   "execution_count": 13,
   "id": "3ad526b6-ae47-4641-a7a9-bbb9265b074c",
   "metadata": {},
   "outputs": [
    {
     "name": "stdout",
     "output_type": "stream",
     "text": [
      "[ 1  2  3  4  5  6  7  8  9 10 11 12]\n",
      "\n",
      "from 1D to 2D\n",
      "[[ 1  2  3  4]\n",
      " [ 5  6  7  8]\n",
      " [ 9 10 11 12]]\n"
     ]
    }
   ],
   "source": [
    "import numpy as np\n",
    "arr = np.array([1,2,3,4,5,6,7,8,9,10,11,12])\n",
    "print(arr)\n",
    "print()\n",
    "print(\"from 1D to 2D\")\n",
    "arr = arr.reshape(3,4)\n",
    "print(arr)"
   ]
  },
  {
   "cell_type": "code",
   "execution_count": 17,
   "id": "4f2ca4a2-b2f9-4356-88f7-05b1099bfe99",
   "metadata": {},
   "outputs": [
    {
     "name": "stdout",
     "output_type": "stream",
     "text": [
      "from 1D to 2D\n",
      "[[[ 1  2  3]\n",
      "  [ 4  5  6]]\n",
      "\n",
      " [[ 7  8  9]\n",
      "  [10 11 12]]]\n"
     ]
    }
   ],
   "source": [
    "print(\"from 1D to 3D\")\n",
    "arr = arr.reshape(2,2,3)\n",
    "print(arr)"
   ]
  },
  {
   "cell_type": "markdown",
   "id": "432829b9-260a-495b-ac99-99d32e3cd43c",
   "metadata": {},
   "source": [
    "# iterating elements in array"
   ]
  },
  {
   "cell_type": "code",
   "execution_count": 42,
   "id": "d5267058-8fa5-4258-a086-5b2d98864ce7",
   "metadata": {},
   "outputs": [
    {
     "name": "stdout",
     "output_type": "stream",
     "text": [
      "[[ 1  2  3  4  5  6  7  8  9 10 11 12]]\n",
      "[ 1  2  3  4  5  6  7  8  9 10 11 12]\n"
     ]
    }
   ],
   "source": [
    "arr = arr.reshape(1,12)\n",
    "print(arr)\n",
    "arr = arr.flatten()\n",
    "print(arr)"
   ]
  },
  {
   "cell_type": "code",
   "execution_count": 59,
   "id": "40032876-5206-4531-9afe-fc0ab9c681a2",
   "metadata": {},
   "outputs": [
    {
     "name": "stdout",
     "output_type": "stream",
     "text": [
      "[1 2 3 4] [5 6 7 8] [ 9 10 11 12] "
     ]
    }
   ],
   "source": [
    "arr_2d = arr.reshape(3,4)\n",
    "# print(arr_2d)\n",
    "for i in arr_2d:\n",
    "    print(i,end = \" \")"
   ]
  },
  {
   "cell_type": "code",
   "execution_count": 65,
   "id": "461865b7-4253-4890-9b0d-9132d7cd0e0e",
   "metadata": {},
   "outputs": [
    {
     "name": "stdout",
     "output_type": "stream",
     "text": [
      "1 2 3 4 5 6 7 8 9 10 11 12 "
     ]
    }
   ],
   "source": [
    "for i in arr_2d:\n",
    "    for j in i:\n",
    "        print(j,end = \" \")"
   ]
  },
  {
   "cell_type": "code",
   "execution_count": 67,
   "id": "d927c122-c4d1-4855-aab4-04672688dd19",
   "metadata": {},
   "outputs": [
    {
     "name": "stdout",
     "output_type": "stream",
     "text": [
      "1 2 3 4 5 6 7 8 9 10 11 12 "
     ]
    }
   ],
   "source": [
    "for i in np.nditer(arr_2d): #np.nditer\n",
    "    print(i,end = \" \")"
   ]
  },
  {
   "cell_type": "markdown",
   "id": "ed078576-4599-4df1-ad7c-ac6428788057",
   "metadata": {},
   "source": [
    "# NumPy joining array"
   ]
  },
  {
   "cell_type": "code",
   "execution_count": 82,
   "id": "49aadae7-5e67-43d9-8dbd-1c0722d45ac8",
   "metadata": {},
   "outputs": [
    {
     "name": "stdout",
     "output_type": "stream",
     "text": [
      "[1 2 3 4 5 6 7 8]\n"
     ]
    }
   ],
   "source": [
    "arr1 = np.array([1,2,3,4])\n",
    "arr2= np.array([5,6,7,8])\n",
    "arr = np.concatenate((arr1,arr2))\n",
    "print(arr)"
   ]
  },
  {
   "cell_type": "code",
   "execution_count": 88,
   "id": "51649046-4eef-4aa7-a140-726f180fa637",
   "metadata": {},
   "outputs": [
    {
     "name": "stdout",
     "output_type": "stream",
     "text": [
      "axis = 0\n",
      "[[1 2]\n",
      " [3 4]\n",
      " [5 6]\n",
      " [7 8]]\n",
      "axis = 1\n",
      "[[1 2 5 6]\n",
      " [3 4 7 8]]\n"
     ]
    }
   ],
   "source": [
    "arr1_2d = arr1.reshape(2,2)\n",
    "arr2_2d = arr2.reshape(2,2)\n",
    "print(\"axis = 0\")\n",
    "arr_2d = np.concatenate((arr1_2d,arr2_2d),axis = 0)\n",
    "print(arr_2d)\n",
    "print(\"axis = 1\")\n",
    "arr_2d = np.concatenate((arr1_2d,arr2_2d),axis = 1)\n",
    "print(arr_2d)"
   ]
  },
  {
   "cell_type": "markdown",
   "id": "97ccefe5-d3d2-4a79-8104-6b4391efc910",
   "metadata": {},
   "source": [
    "# joining array using stack"
   ]
  },
  {
   "cell_type": "code",
   "execution_count": 100,
   "id": "96e1aa00-1de7-4ff0-a2d8-1d9d4da35d5b",
   "metadata": {},
   "outputs": [
    {
     "name": "stdout",
     "output_type": "stream",
     "text": [
      "[[1 5]\n",
      " [2 6]\n",
      " [3 7]\n",
      " [4 8]]\n"
     ]
    }
   ],
   "source": [
    "arr = np.stack((arr1,arr2),axis = 1)\n",
    "print(arr)"
   ]
  },
  {
   "cell_type": "raw",
   "id": "158df1a5-c3f8-41a0-b133-c6dc0f62b63b",
   "metadata": {},
   "source": [
    "advantage of using stack over concatinate is we can even merge 1D array also"
   ]
  },
  {
   "cell_type": "markdown",
   "id": "48462648-a68c-4e38-91f0-52df3610e208",
   "metadata": {},
   "source": [
    "# hstack (horizontal stack) works only in 1D"
   ]
  },
  {
   "cell_type": "code",
   "execution_count": 106,
   "id": "b888dcf2-5a4f-4011-bec2-bd08ef2f765c",
   "metadata": {},
   "outputs": [
    {
     "name": "stdout",
     "output_type": "stream",
     "text": [
      "[1 2 3 4 5 6 7 8]\n"
     ]
    }
   ],
   "source": [
    "arr = np.hstack((arr1,arr2)) \n",
    "print(arr)"
   ]
  },
  {
   "cell_type": "markdown",
   "id": "4e4b9fcd-91ed-4472-8a57-e902b4cb476c",
   "metadata": {},
   "source": [
    "# vstack (vertical stack)"
   ]
  },
  {
   "cell_type": "code",
   "execution_count": 112,
   "id": "ae0382e4-2a3a-4fdd-89d6-b585c9f65d34",
   "metadata": {},
   "outputs": [
    {
     "name": "stdout",
     "output_type": "stream",
     "text": [
      "[[1 2 3 4]\n",
      " [5 6 7 8]]\n"
     ]
    }
   ],
   "source": [
    "arr = np.vstack((arr1,arr2))\n",
    "print(arr)"
   ]
  },
  {
   "cell_type": "markdown",
   "id": "76cd9e84-3501-446e-bc8f-16870a166e5f",
   "metadata": {},
   "source": [
    "# Numpy array splitting"
   ]
  },
  {
   "cell_type": "markdown",
   "id": "8f94c0dd-fa8b-4966-92a7-335eaffccfc1",
   "metadata": {},
   "source": [
    "# array_split"
   ]
  },
  {
   "cell_type": "code",
   "execution_count": 125,
   "id": "4131ec72-a2ce-4472-bb64-399bc50149c8",
   "metadata": {},
   "outputs": [],
   "source": [
    "arr = np.array(range(1,13))\n",
    "new_array = np.array_split(arr,3)\n",
    "# returns the array containing 3 arrays"
   ]
  },
  {
   "cell_type": "code",
   "execution_count": 127,
   "id": "61f86833-9292-4d40-a5a7-2e5a9ca7b1e1",
   "metadata": {},
   "outputs": [
    {
     "data": {
      "text/plain": [
       "[array([1, 2, 3, 4]), array([5, 6, 7, 8]), array([ 9, 10, 11, 12])]"
      ]
     },
     "execution_count": 127,
     "metadata": {},
     "output_type": "execute_result"
    }
   ],
   "source": [
    "new_array"
   ]
  },
  {
   "cell_type": "code",
   "execution_count": 137,
   "id": "a714e30a-7680-4aae-ab35-e84f5c1f42f6",
   "metadata": {},
   "outputs": [
    {
     "name": "stdout",
     "output_type": "stream",
     "text": [
      "[1 2 3 4]\n",
      "1\n"
     ]
    }
   ],
   "source": [
    "print(new_array[0])\n",
    "print(new_array[0][0])"
   ]
  },
  {
   "cell_type": "code",
   "execution_count": 163,
   "id": "f8cfe693-55b8-4917-ac7b-7c2b7f065eac",
   "metadata": {},
   "outputs": [],
   "source": [
    "new_array = np.array_split(arr,15)\n",
    "# if the array has less elements than requried then it will adjust the end accordingly ie gives extra empty arrays"
   ]
  },
  {
   "cell_type": "code",
   "execution_count": 165,
   "id": "9fe37788-0d6e-40af-8658-d05175119ad5",
   "metadata": {},
   "outputs": [
    {
     "name": "stdout",
     "output_type": "stream",
     "text": [
      "[array([1]), array([2]), array([3]), array([4]), array([5]), array([6]), array([7]), array([8]), array([9]), array([10]), array([11]), array([12]), array([], dtype=int64), array([], dtype=int64), array([], dtype=int64)]\n"
     ]
    }
   ],
   "source": [
    "print(new_array)"
   ]
  },
  {
   "cell_type": "markdown",
   "id": "3d1c4aec-3590-44ed-b060-004b5d7e1939",
   "metadata": {},
   "source": [
    "# searching elements in array"
   ]
  },
  {
   "cell_type": "code",
   "execution_count": 172,
   "id": "07720211-57d8-4274-8e01-decad6816af5",
   "metadata": {},
   "outputs": [
    {
     "name": "stdout",
     "output_type": "stream",
     "text": [
      "[ 1  2  3  4  5  6  7  8  9 10 11 12]\n",
      "(array([0]),)\n"
     ]
    }
   ],
   "source": [
    "print(arr)\n",
    "x = np.where(arr==1)\n",
    "print(x)"
   ]
  },
  {
   "cell_type": "code",
   "execution_count": 176,
   "id": "f2457547-4389-4849-bf99-aa9d781b1784",
   "metadata": {},
   "outputs": [
    {
     "name": "stdout",
     "output_type": "stream",
     "text": [
      "(array([ 1,  3,  5,  7,  9, 11]),)\n"
     ]
    }
   ],
   "source": [
    "x = np.where(arr%2==0)\n",
    "print(x)"
   ]
  },
  {
   "cell_type": "markdown",
   "id": "aaff1149-50ac-4252-9919-d2b6c229d430",
   "metadata": {},
   "source": [
    "# searchsorted perform binary search"
   ]
  },
  {
   "cell_type": "raw",
   "id": "6371b04e-0871-48e1-981c-2454afe953de",
   "metadata": {},
   "source": [
    "works on a sorted array only"
   ]
  },
  {
   "cell_type": "code",
   "execution_count": 179,
   "id": "3879c415-eafd-476a-b3af-079cc89b6662",
   "metadata": {},
   "outputs": [
    {
     "data": {
      "text/plain": [
       "array([ 1,  2,  3,  4,  5,  6,  7,  8,  9, 10, 11, 12])"
      ]
     },
     "execution_count": 179,
     "metadata": {},
     "output_type": "execute_result"
    }
   ],
   "source": [
    "arr"
   ]
  },
  {
   "cell_type": "code",
   "execution_count": 185,
   "id": "131f6c9f-2e3e-4f8f-803e-ff44a8d5de7a",
   "metadata": {},
   "outputs": [
    {
     "name": "stdout",
     "output_type": "stream",
     "text": [
      "3\n"
     ]
    }
   ],
   "source": [
    "x = np.searchsorted(arr, 4)\n",
    "print(x)"
   ]
  },
  {
   "cell_type": "code",
   "execution_count": 189,
   "id": "1bb555c3-2718-4fb0-903b-2fca7fb38283",
   "metadata": {},
   "outputs": [
    {
     "name": "stdout",
     "output_type": "stream",
     "text": [
      "4\n"
     ]
    }
   ],
   "source": [
    "x = np.searchsorted(arr, 4,side='right')\n",
    "print(x)"
   ]
  },
  {
   "cell_type": "markdown",
   "id": "2bb943d4-630d-4973-b5db-dde1ce8df632",
   "metadata": {},
   "source": [
    "# sorting in array"
   ]
  },
  {
   "cell_type": "raw",
   "id": "0b8bd452-5b3b-4be8-b3cb-37a682f5fb7e",
   "metadata": {},
   "source": [
    "sort key word"
   ]
  },
  {
   "cell_type": "code",
   "execution_count": 10,
   "id": "2bbfda1f-8db4-4818-9cce-aaded8828168",
   "metadata": {},
   "outputs": [
    {
     "name": "stdout",
     "output_type": "stream",
     "text": [
      "[  45   46 5654    3    3    3  676   66]\n",
      "after sorting\n",
      "[   3    3    3   45   46   66  676 5654]\n"
     ]
    }
   ],
   "source": [
    "arr = np.array([45,46,5654,3,3,3,676,66])\n",
    "print(arr)\n",
    "print(\"after sorting\")\n",
    "arr = np.sort(arr)\n",
    "print(arr)"
   ]
  },
  {
   "cell_type": "code",
   "execution_count": 196,
   "id": "cb3f43ca-2d48-433d-88dd-4540b66b178f",
   "metadata": {},
   "outputs": [
    {
     "name": "stdout",
     "output_type": "stream",
     "text": [
      "[[35 45  5 75]\n",
      " [ 2 34  3 65]]\n",
      "after sorting\n",
      "[[35 45  5 75]\n",
      " [ 2 34  3 65]]\n"
     ]
    }
   ],
   "source": [
    "arr_2d = np.array([[35,45,5,75],[2,34,3,65]])\n",
    "print(arr_2d)\n",
    "print(\"after sorting\")\n",
    "print(arr_2d)"
   ]
  },
  {
   "cell_type": "markdown",
   "id": "0320afe0-6f2b-4522-92b4-bb99f6202c7f",
   "metadata": {},
   "source": [
    "# random number in NumPy"
   ]
  },
  {
   "cell_type": "code",
   "execution_count": 209,
   "id": "374a8d14-b37f-44a2-bf83-59a58a18280c",
   "metadata": {},
   "outputs": [
    {
     "name": "stdout",
     "output_type": "stream",
     "text": [
      "0.22517334446835147\n",
      "87\n",
      "30\n"
     ]
    }
   ],
   "source": [
    "import random\n",
    "print(random.random())\n",
    "print(random.randint(1,100))\n",
    "print(random.randint(100)) #cause error"
   ]
  },
  {
   "cell_type": "code",
   "execution_count": 12,
   "id": "81489299-60c1-4c20-b498-5d321bb863a5",
   "metadata": {},
   "outputs": [
    {
     "name": "stdout",
     "output_type": "stream",
     "text": [
      "0.8623049655019099\n",
      "94\n",
      "33\n"
     ]
    }
   ],
   "source": [
    "from numpy import random\n",
    "print(random.random())\n",
    "print(random.randint(1,100))\n",
    "print(random.randint(100))\n"
   ]
  },
  {
   "cell_type": "code",
   "execution_count": 14,
   "id": "d5ac27d4-fc90-4500-a178-13e880999147",
   "metadata": {},
   "outputs": [
    {
     "name": "stdout",
     "output_type": "stream",
     "text": [
      "0.6839572395384457\n"
     ]
    }
   ],
   "source": [
    "# generating a random float\n",
    "print(random.rand())"
   ]
  },
  {
   "cell_type": "code",
   "execution_count": 16,
   "id": "b7c97cbf-1c3c-4811-8e24-281a8ffc8a19",
   "metadata": {},
   "outputs": [
    {
     "name": "stdout",
     "output_type": "stream",
     "text": [
      "[73 42 39 45 26 55 27 15  4 31]\n"
     ]
    }
   ],
   "source": [
    "# array of random numbers\n",
    "print(random.randint(100 ,size = 10))"
   ]
  },
  {
   "cell_type": "code",
   "execution_count": 18,
   "id": "8f9330a2-8461-4bbe-bf1a-5f17f9a2377a",
   "metadata": {},
   "outputs": [
    {
     "name": "stdout",
     "output_type": "stream",
     "text": [
      "[[41 19  4 74]\n",
      " [35 65 13 31]\n",
      " [51 63 59 14]]\n"
     ]
    }
   ],
   "source": [
    "#generating 2D array  of random numbers\n",
    "print(random.randint(100,size = (3,4)))"
   ]
  },
  {
   "cell_type": "code",
   "execution_count": 20,
   "id": "44188b52-bafa-454e-a560-c65133d836fc",
   "metadata": {},
   "outputs": [
    {
     "name": "stdout",
     "output_type": "stream",
     "text": [
      "[   3    3    3   45   46   66  676 5654]\n",
      "5654\n"
     ]
    }
   ],
   "source": [
    "# choosing a random number from array\n",
    "print(arr)\n",
    "print(random.choice(arr))"
   ]
  },
  {
   "cell_type": "code",
   "execution_count": 22,
   "id": "4a3115ba-cdee-406a-9c49-97fb6e73fc7f",
   "metadata": {},
   "outputs": [
    {
     "name": "stdout",
     "output_type": "stream",
     "text": [
      "[[5654    3   66   46]\n",
      " [  66   46    3    3]\n",
      " [   3  676   45    3]]\n"
     ]
    }
   ],
   "source": [
    "# generate a 2D array using choice\n",
    "print(random.choice(arr,size = (3,4)))"
   ]
  },
  {
   "cell_type": "markdown",
   "id": "7e6b205d-b70d-4c3a-8445-f307ccc1b37e",
   "metadata": {},
   "source": [
    "# random data distribution"
   ]
  },
  {
   "cell_type": "raw",
   "id": "a50dfc35-a3ec-4422-849e-2d6fe4cb2d45",
   "metadata": {},
   "source": [
    "*it is a set of random numbers that follows a certain probablity density function\n",
    "*probablity density function is a function that describe a continous probablity ie probablity of all values in array\n",
    "*choice() method helps us to specify the peobablity where 0 means that the the number will never occour and 1 means the number will occour always"
   ]
  },
  {
   "cell_type": "code",
   "execution_count": 250,
   "id": "6f739622-a4ef-4e7b-b9ba-8d6629cb58fd",
   "metadata": {},
   "outputs": [
    {
     "name": "stdout",
     "output_type": "stream",
     "text": [
      "[[43 36]\n",
      " [99 43]]\n"
     ]
    }
   ],
   "source": [
    "# gnerating the 1D array using choice() method by defining a proper probablity\n",
    "print(random.choice([3,46,43,36,99], p = [0.0,0.2,0.4,0.1,0.3],size = (2,2) ))"
   ]
  },
  {
   "cell_type": "markdown",
   "id": "e91a76e5-2648-4d9c-a19c-9145c394a2b7",
   "metadata": {},
   "source": [
    "# Random permutation"
   ]
  },
  {
   "cell_type": "raw",
   "id": "afc2fdc3-1311-4749-86e0-8f490bf7bc35",
   "metadata": {},
   "source": [
    "numpy has 2 modules for this ie shuffle() and permutation()"
   ]
  },
  {
   "cell_type": "code",
   "execution_count": 346,
   "id": "3d313119-9222-499e-b599-507ab94fcac6",
   "metadata": {},
   "outputs": [
    {
     "name": "stdout",
     "output_type": "stream",
     "text": [
      "[1 2 3 4 5]\n",
      "[5 1 2 4 3]\n"
     ]
    }
   ],
   "source": [
    "#using shuffle module\n",
    "from numpy import random\n",
    "import numpy as np\n",
    "arr = np.array(range(1,6))\n",
    "print(arr)\n",
    "random.shuffle(arr)\n",
    "print(arr) #every time it will return a new array # make changes to the original array"
   ]
  },
  {
   "cell_type": "code",
   "execution_count": 396,
   "id": "734ca482-7c69-4426-9c22-0228890afeac",
   "metadata": {},
   "outputs": [
    {
     "name": "stdout",
     "output_type": "stream",
     "text": [
      "[5 1 2 4 3]\n",
      "[5 4 3 1 2]\n"
     ]
    }
   ],
   "source": [
    "#using permutation method\n",
    "print(arr)\n",
    "print(random.permutation(arr))"
   ]
  },
  {
   "cell_type": "code",
   "execution_count": 398,
   "id": "49d52535-d9a0-419f-adec-c446c065c2c1",
   "metadata": {},
   "outputs": [
    {
     "name": "stderr",
     "output_type": "stream",
     "text": [
      "Matplotlib is building the font cache; this may take a moment.\n"
     ]
    }
   ],
   "source": [
    "# visulization of distributed data\n",
    "import matplotlib.pyplot as plt\n",
    "import seaborn as sns"
   ]
  },
  {
   "cell_type": "code",
   "execution_count": 422,
   "id": "43f146ac-5aa9-4a5f-a5ad-94513b21d4e8",
   "metadata": {},
   "outputs": [
    {
     "name": "stderr",
     "output_type": "stream",
     "text": [
      "/var/folders/10/024v8nsd5j99nq9qbn4_wkxh0000gn/T/ipykernel_1078/3137714002.py:1: UserWarning: \n",
      "\n",
      "`distplot` is a deprecated function and will be removed in seaborn v0.14.0.\n",
      "\n",
      "Please adapt your code to use either `displot` (a figure-level function with\n",
      "similar flexibility) or `kdeplot` (an axes-level function for kernel density plots).\n",
      "\n",
      "For a guide to updating your code to use the new functions, please see\n",
      "https://gist.github.com/mwaskom/de44147ed2974457ad6372750bbe5751\n",
      "\n",
      "  sns.distplot(arr,hist=False)\n"
     ]
    },
    {
     "data": {
      "text/plain": [
       "<Axes: ylabel='Density'>"
      ]
     },
     "execution_count": 422,
     "metadata": {},
     "output_type": "execute_result"
    },
    {
     "data": {
      "image/png": "[encoded data removed]",
      "text/plain": [
       "<Figure size 640x480 with 1 Axes>"
      ]
     },
     "metadata": {},
     "output_type": "display_data"
    }
   ],
   "source": [
    "sns.distplot(arr,hist=False)"
   ]
  },
  {
   "cell_type": "markdown",
   "id": "934d22a7-23bc-4830-8ccc-beb051ea3c12",
   "metadata": {},
   "source": [
    "# normal distribution "
   ]
  },
  {
   "cell_type": "raw",
   "id": "4ee2aa5d-12d1-4801-b0d5-1862f268600e",
   "metadata": {},
   "source": [
    "we use random.normal() module to get the normal distribution\n",
    "it has 3 parameters\n",
    "loc - mean where the peak of all the peak exists\n",
    "scale - standard deviation ,how flat the the graph distribution should be\n",
    "size - the shape of the returned array"
   ]
  },
  {
   "cell_type": "code",
   "execution_count": 425,
   "id": "6fd98b13-b4f9-4988-bee9-45356ac6bc0d",
   "metadata": {},
   "outputs": [
    {
     "name": "stdout",
     "output_type": "stream",
     "text": [
      "[[ 1.09196553  0.55258615 -0.68340057]\n",
      " [ 0.39930035 -0.81801332  1.090772  ]]\n"
     ]
    }
   ],
   "source": [
    "# generating a random normal distributon of size 2X3\n",
    "from numpy import random\n",
    "x = random.normal(size = (2,3))\n",
    "print(x)"
   ]
  },
  {
   "cell_type": "code",
   "execution_count": 429,
   "id": "c9684e54-4db8-4c60-94ba-f32a0fdf455d",
   "metadata": {},
   "outputs": [
    {
     "name": "stdout",
     "output_type": "stream",
     "text": [
      "[[-1.55932079 -1.93637007 -2.29077188]\n",
      " [ 1.08088224  5.2935496   1.48122802]]\n"
     ]
    }
   ],
   "source": [
    "# generating a random normal distribution of mean 1 and standard deviation 2\n",
    "x = random.normal(loc = 1, scale = 2, size = (2,3))\n",
    "print(x)"
   ]
  },
  {
   "cell_type": "code",
   "execution_count": 439,
   "id": "539fefd5-e159-4708-abe5-ea2beca61479",
   "metadata": {},
   "outputs": [
    {
     "name": "stderr",
     "output_type": "stream",
     "text": [
      "/var/folders/10/024v8nsd5j99nq9qbn4_wkxh0000gn/T/ipykernel_1078/2176722057.py:1: UserWarning: \n",
      "\n",
      "`distplot` is a deprecated function and will be removed in seaborn v0.14.0.\n",
      "\n",
      "Please adapt your code to use either `displot` (a figure-level function with\n",
      "similar flexibility) or `kdeplot` (an axes-level function for kernel density plots).\n",
      "\n",
      "For a guide to updating your code to use the new functions, please see\n",
      "https://gist.github.com/mwaskom/de44147ed2974457ad6372750bbe5751\n",
      "\n",
      "  sns.distplot(random.normal(size = 1000),hist = False)\n"
     ]
    },
    {
     "data": {
      "image/png": "[encoded data removed]",
      "text/plain": [
       "<Figure size 640x480 with 1 Axes>"
      ]
     },
     "metadata": {},
     "output_type": "display_data"
    }
   ],
   "source": [
    "sns.distplot(random.normal(size = 1000),hist = False)\n",
    "plt.show()"
   ]
  },
  {
   "cell_type": "markdown",
   "id": "dd1bb8c1-ad16-4fbb-bc56-d825e809361d",
   "metadata": {},
   "source": [
    "# Binomial Distribution"
   ]
  },
  {
   "cell_type": "raw",
   "id": "fb90ffc5-dead-438e-897d-a8e760ee60e3",
   "metadata": {},
   "source": [
    "we use random.binomial() function\n",
    "it is a discrete distribution\n",
    "it describe the outcome of binary distribution ie toss of a coin either head or tail\n",
    "paramaters:\n",
    "n - numbers of trial\n",
    "p - probablity of ocurence of each trial\n",
    "size - the shape of the returned array"
   ]
  },
  {
   "cell_type": "markdown",
   "id": "a551d71a-52ef-4628-91b6-7c228ea8564b",
   "metadata": {},
   "source": [
    "# Diff bw normal or continous distribution and binomial distribution"
   ]
  },
  {
   "cell_type": "raw",
   "id": "9063450a-97de-4cf5-9e05-07e65d0d4751",
   "metadata": {},
   "source": [
    "discrete distribution is defined as a set of events ie a coin toss result is a discrete it can be only head or tail\n",
    "where as weight of a person is continous"
   ]
  },
  {
   "cell_type": "code",
   "execution_count": 448,
   "id": "22024f03-a774-4feb-b36b-261142aaeddd",
   "metadata": {},
   "outputs": [
    {
     "name": "stdout",
     "output_type": "stream",
     "text": [
      "[5 6 5 5 7 5 6 8 4 6]\n"
     ]
    }
   ],
   "source": [
    "# given 10 trials for coin toss generate 10 data points\n",
    "x = random.binomial(n = 10 , p = 0.5 , size = 10)\n",
    "print(x)"
   ]
  },
  {
   "cell_type": "code",
   "execution_count": 454,
   "id": "5a67db21-e644-485b-8af1-29fc3dffc2e0",
   "metadata": {},
   "outputs": [
    {
     "name": "stdout",
     "output_type": "stream",
     "text": [
      "[1 0 0 1 1 1 1 1 0 1]\n"
     ]
    }
   ],
   "source": [
    "#example, a sinlge coin tosses 10 times\n",
    "print(random.choice([1,0] , p = [0.5,0.5] , size = (10)))"
   ]
  },
  {
   "cell_type": "code",
   "execution_count": 466,
   "id": "0ad685c2-9dcb-4bb4-b99c-ad73a4a11726",
   "metadata": {},
   "outputs": [
    {
     "name": "stdout",
     "output_type": "stream",
     "text": [
      "[4 2 6 6 4 8 3 5 6 3]\n"
     ]
    },
    {
     "name": "stderr",
     "output_type": "stream",
     "text": [
      "/var/folders/10/024v8nsd5j99nq9qbn4_wkxh0000gn/T/ipykernel_1078/2988376561.py:3: UserWarning: \n",
      "\n",
      "`distplot` is a deprecated function and will be removed in seaborn v0.14.0.\n",
      "\n",
      "Please adapt your code to use either `displot` (a figure-level function with\n",
      "similar flexibility) or `histplot` (an axes-level function for histograms).\n",
      "\n",
      "For a guide to updating your code to use the new functions, please see\n",
      "https://gist.github.com/mwaskom/de44147ed2974457ad6372750bbe5751\n",
      "\n",
      "  sns.distplot(x)\n"
     ]
    },
    {
     "data": {
      "image/png": "[encoded data removed]",
      "text/plain": [
       "<Figure size 640x480 with 1 Axes>"
      ]
     },
     "metadata": {},
     "output_type": "display_data"
    }
   ],
   "source": [
    "x = random.binomial(n = 10 , p = 0.5, size = 10)\n",
    "print(x)\n",
    "sns.distplot(x)\n",
    "plt.show()"
   ]
  },
  {
   "cell_type": "markdown",
   "id": "889d05c3-e543-45fa-bbb4-f2e9f78e457e",
   "metadata": {},
   "source": [
    "# comparision of both normal and binomaial distribution"
   ]
  },
  {
   "cell_type": "raw",
   "id": "42472b0e-396a-4122-8638-ec2494fd2689",
   "metadata": {},
   "source": [
    "both are similar but the diff is normal distibution works on continous data\n",
    "where as binomial distribution works on discrete data"
   ]
  },
  {
   "cell_type": "code",
   "execution_count": 472,
   "id": "bf42f80e-f949-4ffc-b50f-b3818a87a20c",
   "metadata": {},
   "outputs": [
    {
     "name": "stderr",
     "output_type": "stream",
     "text": [
      "/var/folders/10/024v8nsd5j99nq9qbn4_wkxh0000gn/T/ipykernel_1078/3609507581.py:2: UserWarning: \n",
      "\n",
      "`distplot` is a deprecated function and will be removed in seaborn v0.14.0.\n",
      "\n",
      "Please adapt your code to use either `displot` (a figure-level function with\n",
      "similar flexibility) or `kdeplot` (an axes-level function for kernel density plots).\n",
      "\n",
      "For a guide to updating your code to use the new functions, please see\n",
      "https://gist.github.com/mwaskom/de44147ed2974457ad6372750bbe5751\n",
      "\n",
      "  sns.distplot(random.normal(loc = 50 , scale = 5 , size = 1000), hist = False , label = \"Normal\")\n",
      "/var/folders/10/024v8nsd5j99nq9qbn4_wkxh0000gn/T/ipykernel_1078/3609507581.py:3: UserWarning: \n",
      "\n",
      "`distplot` is a deprecated function and will be removed in seaborn v0.14.0.\n",
      "\n",
      "Please adapt your code to use either `displot` (a figure-level function with\n",
      "similar flexibility) or `kdeplot` (an axes-level function for kernel density plots).\n",
      "\n",
      "For a guide to updating your code to use the new functions, please see\n",
      "https://gist.github.com/mwaskom/de44147ed2974457ad6372750bbe5751\n",
      "\n",
      "  sns.distplot(random.binomial(n = 100 , p  = 0.5 , size = 1000), hist = False, label = \"Binomial\")\n"
     ]
    },
    {
     "data": {
      "image/png": "[encoded data removed]",
      "text/plain": [
       "<Figure size 640x480 with 1 Axes>"
      ]
     },
     "metadata": {},
     "output_type": "display_data"
    }
   ],
   "source": [
    "\n",
    "sns.distplot(random.normal(loc = 50 , scale = 5 , size = 1000), hist = False , label = \"Normal\")\n",
    "sns.distplot(random.binomial(n = 100 , p  = 0.5 , size = 1000), hist = False, label = \"Binomial\")\n",
    "plt.show()"
   ]
  },
  {
   "cell_type": "markdown",
   "id": "0b0c4d15-a9e6-4af4-bde8-894faa7221f5",
   "metadata": {},
   "source": [
    "# Poisson Distribution"
   ]
  },
  {
   "cell_type": "raw",
   "id": "91050670-a0e1-46a6-9f18-214a477e9209",
   "metadata": {},
   "source": [
    "it uses random.poisson() model\n",
    "it is also a discreet distributon\n",
    "it estimates how many times an event can heppen in a specific time ie if someone eat twice a day what is a probabilty he will eat thrice\n",
    "parameters\n",
    "lam - rate ir known number of occurance eg 2 or above problem\n",
    "size - the shape od returned array"
   ]
  },
  {
   "cell_type": "markdown",
   "id": "5751a041-5c82-481f-83be-9b06ab398d19",
   "metadata": {},
   "source": [
    "# Diff bw poisson and binomial distribution"
   ]
  },
  {
   "cell_type": "raw",
   "id": "63ee8c3b-94da-44c6-9b3f-c7775842bcc7",
   "metadata": {},
   "source": [
    "Binomial:\n",
    "Used when the number of trials is fixed, and you want to count successes.\n",
    "Example: Tossing a coin 10 times and counting the heads.\n",
    "\n",
    "Poisson:\n",
    "Used to model the number of occurrences of an event over a continuous interval (time, space, etc.).\n",
    "Example: Number of phone calls received at a call center in an hour."
   ]
  },
  {
   "cell_type": "code",
   "execution_count": 480,
   "id": "574be20c-181b-4ef0-909d-ce0aa9deff57",
   "metadata": {},
   "outputs": [
    {
     "name": "stdout",
     "output_type": "stream",
     "text": [
      "[0 1 2 3 1 0 1 1 3 2]\n"
     ]
    }
   ],
   "source": [
    "x = random.poisson(lam = 2 , size = 10)\n",
    "print(x)"
   ]
  },
  {
   "cell_type": "markdown",
   "id": "8ae842a3-26e2-4e08-a52f-ddad6b264415",
   "metadata": {},
   "source": [
    "# Initial Placeholders"
   ]
  },
  {
   "cell_type": "code",
   "execution_count": 4,
   "id": "584ad47e-3414-4bee-bf77-510f9c731419",
   "metadata": {},
   "outputs": [],
   "source": [
    "import numpy as np"
   ]
  },
  {
   "cell_type": "markdown",
   "id": "7cf94e7b-73db-433a-8a97-831d9aa0d5f8",
   "metadata": {},
   "source": [
    "# np.zeros"
   ]
  },
  {
   "cell_type": "code",
   "execution_count": 9,
   "id": "620d5670-f85f-4563-80e7-25fae4ccedb6",
   "metadata": {},
   "outputs": [
    {
     "name": "stdout",
     "output_type": "stream",
     "text": [
      "[[0. 0. 0. 0. 0.]\n",
      " [0. 0. 0. 0. 0.]\n",
      " [0. 0. 0. 0. 0.]\n",
      " [0. 0. 0. 0. 0.]]\n"
     ]
    }
   ],
   "source": [
    "print(np.zeros((4,5)))"
   ]
  },
  {
   "cell_type": "markdown",
   "id": "645b6e4f-fc8e-411a-9bea-4cdca30bd993",
   "metadata": {},
   "source": [
    "# np.ones"
   ]
  },
  {
   "cell_type": "code",
   "execution_count": 15,
   "id": "edf35786-1e1c-450d-b75e-cfe5a919a8dc",
   "metadata": {},
   "outputs": [
    {
     "name": "stdout",
     "output_type": "stream",
     "text": [
      "[[1. 1. 1. 1. 1.]\n",
      " [1. 1. 1. 1. 1.]\n",
      " [1. 1. 1. 1. 1.]\n",
      " [1. 1. 1. 1. 1.]\n",
      " [1. 1. 1. 1. 1.]]\n"
     ]
    }
   ],
   "source": [
    "print(np.ones((5,5)))"
   ]
  },
  {
   "cell_type": "markdown",
   "id": "7d05c7a9-5518-4f7f-97a4-1d3b2574fe00",
   "metadata": {},
   "source": [
    "# np.eye"
   ]
  },
  {
   "cell_type": "code",
   "execution_count": 33,
   "id": "29b0ccf7-3e8f-4b83-912a-d985963792e8",
   "metadata": {},
   "outputs": [
    {
     "name": "stdout",
     "output_type": "stream",
     "text": [
      "[[1. 0. 0. 0. 0.]\n",
      " [0. 1. 0. 0. 0.]\n",
      " [0. 0. 1. 0. 0.]\n",
      " [0. 0. 0. 1. 0.]\n",
      " [0. 0. 0. 0. 1.]]\n"
     ]
    }
   ],
   "source": [
    "print(np.eye(5,5))"
   ]
  },
  {
   "cell_type": "markdown",
   "id": "a17c838a-7674-4a83-96a6-e4a4aafb84ba",
   "metadata": {},
   "source": [
    "# np.arrange"
   ]
  },
  {
   "cell_type": "code",
   "execution_count": 42,
   "id": "b90f2c7d-78b7-4f5a-be1d-ad3e37024350",
   "metadata": {},
   "outputs": [
    {
     "data": {
      "text/plain": [
       "array([1, 3, 5, 7, 9])"
      ]
     },
     "execution_count": 42,
     "metadata": {},
     "output_type": "execute_result"
    }
   ],
   "source": [
    "np.arange(1,10,2)"
   ]
  },
  {
   "cell_type": "markdown",
   "id": "6b41eb80-ce4f-478b-a3c4-d9ea5dd4de42",
   "metadata": {},
   "source": [
    "# np.linspace"
   ]
  },
  {
   "cell_type": "code",
   "execution_count": 47,
   "id": "75d4268d-0e6c-4bfc-9456-c84329e2e823",
   "metadata": {},
   "outputs": [
    {
     "data": {
      "text/plain": [
       "array([1.  , 1.25, 1.5 , 1.75, 2.  ])"
      ]
     },
     "execution_count": 47,
     "metadata": {},
     "output_type": "execute_result"
    }
   ],
   "source": [
    "np.linspace(1,2,5)"
   ]
  },
  {
   "cell_type": "code",
   "execution_count": 55,
   "id": "86685b5f-96d2-4a97-948c-74dc95d4b7b3",
   "metadata": {},
   "outputs": [
    {
     "name": "stdout",
     "output_type": "stream",
     "text": [
      "[[6 7 7 8 9]\n",
      " [6 9 9 7 8]\n",
      " [6 8 8 8 8]\n",
      " [5 6 9 5 7]\n",
      " [5 8 6 7 8]]\n",
      "\n",
      "[[6 5 6 5 9]\n",
      " [9 6 9 9 8]\n",
      " [8 6 7 8 8]\n",
      " [7 7 5 6 5]\n",
      " [7 9 8 7 9]]\n"
     ]
    }
   ],
   "source": [
    "a = random.randint(low = 5,high =10, size = (5,5))\n",
    "b = random.randint(low = 5,high =10, size = (5,5))\n",
    "print(a)\n",
    "print()\n",
    "print(b)"
   ]
  },
  {
   "cell_type": "code",
   "execution_count": 57,
   "id": "42b12153-56d0-420f-b861-e71f0877bc63",
   "metadata": {},
   "outputs": [
    {
     "data": {
      "text/plain": [
       "array([[12, 12, 13, 13, 18],\n",
       "       [15, 15, 18, 16, 16],\n",
       "       [14, 14, 15, 16, 16],\n",
       "       [12, 13, 14, 11, 12],\n",
       "       [12, 17, 14, 14, 17]])"
      ]
     },
     "execution_count": 57,
     "metadata": {},
     "output_type": "execute_result"
    }
   ],
   "source": [
    "a+b"
   ]
  },
  {
   "cell_type": "code",
   "execution_count": 59,
   "id": "1dc66f0c-3419-4a76-8bc8-e9de02727779",
   "metadata": {},
   "outputs": [
    {
     "data": {
      "text/plain": [
       "array([[ 0,  2,  1,  3,  0],\n",
       "       [-3,  3,  0, -2,  0],\n",
       "       [-2,  2,  1,  0,  0],\n",
       "       [-2, -1,  4, -1,  2],\n",
       "       [-2, -1, -2,  0, -1]])"
      ]
     },
     "execution_count": 59,
     "metadata": {},
     "output_type": "execute_result"
    }
   ],
   "source": [
    "a-b"
   ]
  },
  {
   "cell_type": "code",
   "execution_count": 61,
   "id": "ac82e7b4-8776-4e9d-8733-07ddc578131b",
   "metadata": {},
   "outputs": [
    {
     "data": {
      "text/plain": [
       "array([9, 9, 9, 9])"
      ]
     },
     "execution_count": 61,
     "metadata": {},
     "output_type": "execute_result"
    }
   ],
   "source": [
    "a[a>8]"
   ]
  },
  {
   "cell_type": "code",
   "execution_count": 63,
   "id": "3379f88d-d966-462f-bb80-c762d2b6e0f1",
   "metadata": {},
   "outputs": [
    {
     "data": {
      "text/plain": [
       "array([[ True, False, False, False,  True],\n",
       "       [False, False,  True, False,  True],\n",
       "       [False, False, False,  True,  True],\n",
       "       [False, False, False, False, False],\n",
       "       [False, False, False,  True, False]])"
      ]
     },
     "execution_count": 63,
     "metadata": {},
     "output_type": "execute_result"
    }
   ],
   "source": [
    "a == b"
   ]
  },
  {
   "cell_type": "code",
   "execution_count": 65,
   "id": "fdb92069-8957-481c-b67f-b6be9f7bfd70",
   "metadata": {},
   "outputs": [
    {
     "data": {
      "text/plain": [
       "array([28, 38, 39, 35, 40])"
      ]
     },
     "execution_count": 65,
     "metadata": {},
     "output_type": "execute_result"
    }
   ],
   "source": [
    "a.sum(axis = 0) #max,min,mean"
   ]
  },
  {
   "cell_type": "code",
   "execution_count": 67,
   "id": "549f3461-1bc6-49db-99ec-ae609e2df88e",
   "metadata": {},
   "outputs": [
    {
     "data": {
      "text/plain": [
       "array([[6, 7, 7, 8, 9],\n",
       "       [6, 7, 8, 9, 9],\n",
       "       [6, 8, 8, 8, 8],\n",
       "       [5, 5, 6, 7, 9],\n",
       "       [5, 6, 7, 8, 8]])"
      ]
     },
     "execution_count": 67,
     "metadata": {},
     "output_type": "execute_result"
    }
   ],
   "source": [
    "np.sort(a)"
   ]
  },
  {
   "cell_type": "code",
   "execution_count": 69,
   "id": "dee802b6-a01a-439c-8b2f-3f01dd2f3d6f",
   "metadata": {},
   "outputs": [
    {
     "data": {
      "text/plain": [
       "array([[5, 6, 6, 5, 7],\n",
       "       [5, 7, 7, 7, 8],\n",
       "       [6, 8, 8, 7, 8],\n",
       "       [6, 8, 9, 8, 8],\n",
       "       [6, 9, 9, 8, 9]])"
      ]
     },
     "execution_count": 69,
     "metadata": {},
     "output_type": "execute_result"
    }
   ],
   "source": [
    "np.sort(a, axis = 0)"
   ]
  },
  {
   "cell_type": "code",
   "execution_count": 79,
   "id": "c1b0ffac-eee5-4081-9f79-6455b7f48c17",
   "metadata": {},
   "outputs": [
    {
     "data": {
      "text/plain": [
       "array([[6, 7, 7, 8, 9],\n",
       "       [6, 9, 9, 7, 8],\n",
       "       [6, 8, 8, 8, 8],\n",
       "       [5, 6, 9, 5, 7],\n",
       "       [5, 8, 6, 7, 8]])"
      ]
     },
     "execution_count": 79,
     "metadata": {},
     "output_type": "execute_result"
    }
   ],
   "source": [
    "a"
   ]
  },
  {
   "cell_type": "code",
   "execution_count": 93,
   "id": "ab9184d4-88b3-4cae-894e-dbfcaf894d1b",
   "metadata": {},
   "outputs": [
    {
     "data": {
      "text/plain": [
       "array([[0, 6, 7, 7, 8, 9],\n",
       "       [0, 6, 9, 9, 7, 8],\n",
       "       [0, 6, 8, 8, 8, 8],\n",
       "       [0, 5, 6, 9, 5, 7],\n",
       "       [0, 5, 8, 6, 7, 8]])"
      ]
     },
     "execution_count": 93,
     "metadata": {},
     "output_type": "execute_result"
    }
   ],
   "source": [
    "np.insert(a,0,[0,0,0,0,0],axis = 1)"
   ]
  },
  {
   "cell_type": "markdown",
   "id": "94e0c918-e041-4267-a572-4046f86ff7f0",
   "metadata": {},
   "source": [
    "# np split"
   ]
  },
  {
   "cell_type": "code",
   "execution_count": null,
   "id": "9d451cb1-1510-47f9-8a20-8b3aaf330899",
   "metadata": {},
   "outputs": [],
   "source": []
  }
 ],
 "metadata": {
  "kernelspec": {
   "display_name": "Python [conda env:base] *",
   "language": "python",
   "name": "conda-base-py"
  },
  "language_info": {
   "codemirror_mode": {
    "name": "ipython",
    "version": 3
   },
   "file_extension": ".py",
   "mimetype": "text/x-python",
   "name": "python",
   "nbconvert_exporter": "python",
   "pygments_lexer": "ipython3",
   "version": "3.12.7"
  },
  "panel-cell-order": [
   "a78475d5-5dab-4fdd-980c-e0f6e9e1a422",
   "83f87687-2dee-44a9-8736-6750dfc3bad2",
   "a34b7023-96b9-4b35-98e5-7895a9a67953",
   "cc67dded-aa28-4ae2-bcd2-4d5e415777be",
   "40db819f-5e6d-417a-be07-69b7d996d1c5",
   "43c4a693-85bf-45c1-a063-d05e597846fb",
   "5800bb7f-e138-4ba7-a1be-f18b1b77694d",
   "ff375854-1e3d-402e-8c31-976ae1613e57",
   "b14021b2-26c3-4f24-a32d-c1f9f58c2a81",
   "4cd3fdca-d476-456b-bd5f-ec0b31aae106",
   "dd0d3e84-7af5-4db8-8bb4-935f408166a1",
   "57598738-5368-455d-ba64-57ea77d73d92",
   "f8c88a58-27b5-4b93-9aeb-8859f2bcf15a",
   "7174858d-d3ee-4232-a556-8cad8fbd949d",
   "d9a0b6c6-17c6-41fc-8ce5-7eb9dcd03122",
   "2187f40c-670a-4a41-9e4b-30f5b2b33c12",
   "f2010d9b-231a-4526-8bd5-e3cc35258957",
   "2e564801-f70b-44f6-8c13-1a6eb5582aaa",
   "237fe568-962e-4141-b54e-06bf8269f997",
   "a5af33ab-afe5-45fb-bf75-f49212014e75",
   "19a26d39-264e-4a9b-bfc9-61a74a69801f",
   "22f786cf-e028-44c1-be36-d45f2e760e51",
   "0db15b05-79dd-460e-b89c-35633d443a8a",
   "88f3d83b-0a7b-47fc-867b-c03461405286",
   "bfab3303-32b6-44ef-861f-5aa5e7d96d2a",
   "e805c549-e9bf-4a4b-90e6-150b1215cd40",
   "aa7c3656-5ffe-4f3b-9c66-d9ad2d9b1cc7",
   "7a85456d-7885-4126-9872-d5ae8798f3d7",
   "10ab9a61-ff2c-43c0-a3b2-c08f958c2f81",
   "b4249595-aca9-407d-8f33-c00cdaa92304",
   "00ee4599-1f38-4d44-8800-9cb1b3f96ee8",
   "0c2cc75e-765a-47cf-812f-7b10ac4a3727",
   "7d176dc1-5b6f-4c31-918e-dae065e3238c",
   "9dff69c2-9783-462d-8849-daea0e7649d9",
   "33857dc7-2917-4c34-a828-9d21e63fd295",
   "54c9382e-1a53-412c-a72f-3aa57d1742d2",
   "f3ca4732-e05f-4f9b-bdde-549754ad38f7",
   "62f28bcc-39fa-4f9b-8296-b10556c467ff",
   "8c8021c5-c225-4ee1-b8a0-a522150a4080",
   "6009f756-23ab-4fc3-9486-e9335345f854",
   "fdd3b1c1-3b49-453f-8739-70de164a63f6",
   "5318089d-f306-400d-abff-d388cc82d4ec",
   "c1b98b94-ae28-47d9-aedb-02bf08e27081",
   "3dde642d-6d0d-42ab-acec-9adf1b44f79b",
   "25f464a8-876e-4f37-9651-0044000d270b",
   "7c3be14f-0bb4-42f9-bb9d-952ccf85b6ac",
   "48b8ce40-d1db-41d3-b5d0-e118479446f2",
   "c2598cc5-f9f6-4c39-84ea-12cd8b111e8a",
   "f374e68a-bd97-4582-91a7-6fd1e54bf277",
   "1e04daa3-e4eb-4a20-8235-c818fe9d3a9a",
   "6f76412b-ff7b-4538-b3e3-b2e9a0618562",
   "7672bc68-25f4-4e8d-8a70-bb36d6902a21",
   "79af1566-bec5-4fc4-93db-6027069b8fc1",
   "ebf82077-e725-4948-82bf-c3da9e7e79b0"
  ]
 },
 "nbformat": 4,
 "nbformat_minor": 5
}
